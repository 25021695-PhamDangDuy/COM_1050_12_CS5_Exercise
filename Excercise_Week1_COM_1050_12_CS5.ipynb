{
  "nbformat": 4,
  "nbformat_minor": 0,
  "metadata": {
    "colab": {
      "provenance": [],
      "collapsed_sections": [
        "48090f83",
        "344c3bcf",
        "eb403994"
      ],
      "authorship_tag": "ABX9TyPb/mZifyjFguNGt+C0vKye",
      "include_colab_link": true
    },
    "kernelspec": {
      "name": "python3",
      "display_name": "Python 3"
    },
    "language_info": {
      "name": "python"
    }
  },
  "cells": [
    {
      "cell_type": "markdown",
      "metadata": {
        "id": "view-in-github",
        "colab_type": "text"
      },
      "source": [
        "<a href=\"https://colab.research.google.com/github/25021695-PhamDangDuy/COM_1050_12_CS5_Exercise/blob/main/Excercise_Week1_COM_1050_12_CS5.ipynb\" target=\"_parent\"><img src=\"https://colab.research.google.com/assets/colab-badge.svg\" alt=\"Open In Colab\"/></a>"
      ]
    },
    {
      "cell_type": "markdown",
      "source": [
        "# **<font color = \"lightyellow\">Bài Tập Lab01 - Tuần 1 của (25021695-Phạm Đăng Duy)</font>**"
      ],
      "metadata": {
        "id": "l3PJ8JJFocAa"
      }
    },
    {
      "cell_type": "markdown",
      "source": [
        "#####*<font color = \"palegreen\">[W2A1]</font>* Hãy viết chương trình in ra dòng chữ \"Hello World!\" vào ô dưới đây rồi ấn Nộp bài để kiểm tra xem bạn đã biết cách in một thông báo ra màn hình.\n"
      ],
      "metadata": {
        "id": "FVnGm3KaoyWi"
      }
    },
    {
      "cell_type": "code",
      "source": [
        "print(\"Hello World!\")"
      ],
      "metadata": {
        "colab": {
          "base_uri": "https://localhost:8080/"
        },
        "id": "B0LKNHFpqMNc",
        "outputId": "323b2755-e6a8-4af7-e73f-428d9a70b854"
      },
      "execution_count": null,
      "outputs": [
        {
          "output_type": "stream",
          "name": "stdout",
          "text": [
            "Hello World!\n"
          ]
        }
      ]
    },
    {
      "cell_type": "markdown",
      "source": [
        "#####*<font color = \"palegreen\">[W2A2]</font>*  Viết chương trình nhận đầu vào là tên người từ bàn phím và in ra màn hình lời chào tương ứng."
      ],
      "metadata": {
        "id": "5Y55Xh2CqS6F"
      }
    },
    {
      "cell_type": "code",
      "source": [
        "username = input(\"Tên của bạn là: \")\n",
        "print(f\"Xin chào {username}, bạn khỏe không?\")"
      ],
      "metadata": {
        "colab": {
          "base_uri": "https://localhost:8080/"
        },
        "id": "rmaQrytDqbKL",
        "outputId": "5f487984-00ad-4610-c1ec-cefe85acc0e6"
      },
      "execution_count": null,
      "outputs": [
        {
          "output_type": "stream",
          "name": "stdout",
          "text": [
            "Tên của bạn là: DuyPham\n",
            "Xin chào DuyPham, bạn khỏe không?\n"
          ]
        }
      ]
    },
    {
      "cell_type": "markdown",
      "source": [
        "#####*<font color = \"palegreen\">[W2A3]</font>*\n",
        "Viết chương trình nhận vào hai số nguyên a, b từ bàn phím. In ra tổng, hiệu, tích, phần nguyên, phần dư và kết quả chia thực của phép chia a cho b (lấy đến 2 chữ số phần thập phân) theo định dạng đúng của output"
      ],
      "metadata": {
        "id": "o4Uml7FOqm4O"
      }
    },
    {
      "cell_type": "code",
      "source": [
        "a = input(\"Nhập số nguyên a: \")\n",
        "b = input(\"Nhập số nguyên b: \")\n",
        "try:\n",
        "  a = int(a)\n",
        "  b = int(b)\n",
        "  print(f\"Tổng {a} + {b} = {a + b}\")\n",
        "  print(f\"Hiệu {a} - {b} = {a - b}\")\n",
        "  print(f\"Tích {a} x {b} = {a * b}\")\n",
        "  print(f\"Phần nguyên của phép chia {a} cho {b} = {a // b}\")\n",
        "  print(f\"Phần dư của phép chia {a} cho {b} = {a % b}\")\n",
        "  print(f\"Kết quả phép chia {a} cho {b} = {a / b:.2f}\")\n",
        "except ValueError:\n",
        "  print(\"Chỉ được nhập số nguyên\")\n",
        "  exit()\n"
      ],
      "metadata": {
        "colab": {
          "base_uri": "https://localhost:8080/"
        },
        "id": "xPDTtDjrqtH6",
        "outputId": "fa3c5735-c126-43a7-fbcd-09621315d4d9"
      },
      "execution_count": null,
      "outputs": [
        {
          "output_type": "stream",
          "name": "stdout",
          "text": [
            "Nhập số nguyên a: 3\n",
            "Nhập số nguyên b: 1\n",
            "Tổng 3 + 1 = 4\n",
            "Hiệu 3 - 1 = 2\n",
            "Tích 3 x 1 = 3\n",
            "Phần nguyên của phép chia 3 cho 1 = 3\n",
            "Phần dư của phép chia 3 cho 1 = 0\n",
            "Kết quả phép chia 3 cho 1 = 3.00\n"
          ]
        }
      ]
    },
    {
      "cell_type": "markdown",
      "metadata": {
        "id": "2357446b"
      },
      "source": [
        "#####*<font color = \"palegreen\">[W2A4]</font> [AverageOfSix]*\n",
        "Viết chương trình python để tính điểm trung bình môn học của một học sinh trong lớp.\n",
        "Có tổng cộng 6 đầu điểm: a1, b1, c1, a2, b2, a3. Trong đó:\n",
        "* Các điểm a1, b1, c1 được nhân hệ số 1,\n",
        "* Các điểm a2, b2 được nhân hệ số 2,\n",
        "* Điểm a3 được nhân hệ số 3.\n",
        "\n",
        "Công thức tính điểm trung bình là: TB=((a1+b1+c1)+(a2+b2)×2+a3×3)/10\n",
        "\n",
        "Đầu vào: Trong bài tập này, dữ liệu vào chỉ gồm duy nhất một dòng bao gồm 6 số thể hiện cho 6 đầu điểm a1, b1, c1, a2, b2, a3 theo đúng thứ tự đó. Hai đầu điểm liên tiếp nhau sẽ được phân tách nhau bởi duy nhất 1 dấu cách.\n",
        "\n",
        "Đầu ra: Đầu ra là giá trị điểm trung bình môn học của 6 môn học, lấy đến 1 chữ số phần thập phân."
      ]
    },
    {
      "cell_type": "code",
      "source": [
        "\n",
        "user_input = (input(\"Nhập điểm a1, b1, c1, a2, b2, a3: \").split())\n",
        "try:\n",
        "  if len(user_input) != 6: #Kiểm thử bộ giá trị có vượt phần tử không\n",
        "    print(\"chỉ được nhập 6 giá trị\")\n",
        "    exit()\n",
        "  a1, b1, c1, a2, b2, a3 = map(float, user_input)\n",
        "  average = ((a1 + b1 + c1) + (a2 + b2) * 2 + a3 * 3) / 10\n",
        "  print(f\"Điểm trung bình của học sinh là: {average:.1f}\")\n",
        "except ValueError: #Kiểm thử xem bộ giá trị có chữ số không\n",
        "  print(\"Chỉ được nhập số thực\")\n",
        "  exit()"
      ],
      "metadata": {
        "colab": {
          "base_uri": "https://localhost:8080/"
        },
        "id": "jk7qlHcrvtjA",
        "outputId": "822fcc25-bd19-420e-db23-fcb5eb2ccbdd"
      },
      "execution_count": null,
      "outputs": [
        {
          "output_type": "stream",
          "name": "stdout",
          "text": [
            "Nhập điểm a1, b1, c1, a2, b2, a3: 1 2 3 A 1 3 4\n",
            "chỉ được nhập 6 giá trị\n",
            "Chỉ được nhập số thực\n"
          ]
        }
      ]
    },
    {
      "cell_type": "markdown",
      "metadata": {
        "id": "dbf8b10c"
      },
      "source": [
        "#####*<font color = \"palegreen\">[W2A5]</font> [Exponentiation]*\n",
        "\n",
        "Trong Python, phép toán mũ (luỹ thừa) được viết bằng \"**\".\n",
        "Ví dụ: để tính 2^3 bạn viết 2 ** 3, và kết quả là 8.\n",
        "Cơ số và số mũ có thể có kiểu <font color = \"lightblue\">(float)</font> hoặc <font color = \"lightblue\">(int)</font>.\n",
        "Trong bài này bạn hãy nhập vào hai số a, b <font color = \"lightblue\">(int)</font> cách nhau một dấu cách, tính và in ra kết quả a mũ b."
      ]
    },
    {
      "cell_type": "code",
      "source": [
        "#Nhập dữ liệu\n",
        "a, b = map(int, input(\"Nhập vào lần lượt giá trị của a, b: \").split())\n",
        "#Tính toán\n",
        "Answer = a ** b\n",
        "print(f\"{a} ** {b} = {Answer}\")\n"
      ],
      "metadata": {
        "colab": {
          "base_uri": "https://localhost:8080/"
        },
        "id": "v69FqMSIxA9S",
        "outputId": "46509c8b-dc56-43ed-9461-5d0167243d52"
      },
      "execution_count": null,
      "outputs": [
        {
          "output_type": "stream",
          "name": "stdout",
          "text": [
            "Nhập vào lần lượt giá trị của a, b: 0 1\n",
            "0 ** 1 = 0\n"
          ]
        }
      ]
    },
    {
      "cell_type": "markdown",
      "metadata": {
        "id": "f7e83a17"
      },
      "source": [
        "#####*<font color = \"palegreen\">[W2A6]</font> [StringDataType]*\n",
        "\n",
        "“Chuỗi” trong python là các kí tự được xâu lại với nhau như những hạt trên một chiếc dây chuyền. Chính vì thế “chuỗi” còn được gọi là “xâu”.\n",
        "Một chuỗi gồm các kí tự nằm trong dấu nháy đơn '' hoặc nháy đôi \"”.\n",
        "Mỗi chuỗi (str) là một chuỗi các kí tự trong bảng mã Unicode kể từ Python 3 trở đi (Unicode là một tiêu chuẩn mã hóa kí tự toàn cầu, cho phép biểu diễn hầu hết mọi kí tự trong tất cả các ngôn ngữ trên thế giới, bao gồm cả kí hiệu, biểu tượng, emoji,….).\n",
        "Bạn có thể dùng ord() và chr() để làm việc với mã Unicode.\n",
        "<br>\n",
        ">Hãy nhập vào một kí tự chữ cái thường ‘a’…’z’, in ra mã Unicode của nó sau đó chuyển nó thành kí tự hoa tương ứng, in kí tự hoa này ra màn hình."
      ]
    },
    {
      "cell_type": "code",
      "source": [
        "userin = input(\"Nhập kí tự (từ a->z): \")\n",
        "print(f\"Mã Unicode của {userin} là: {ord(userin)}\")\n",
        "print(f\"Chữ cái in hoa của {userin} là: {userin.upper()}\")"
      ],
      "metadata": {
        "colab": {
          "base_uri": "https://localhost:8080/"
        },
        "id": "WANCNnmXxAfl",
        "outputId": "fe204cde-3f71-43fb-dd82-d70d7c7ff493"
      },
      "execution_count": null,
      "outputs": [
        {
          "output_type": "stream",
          "name": "stdout",
          "text": [
            "Nhập kí tự (từ a->z): l\n",
            "Mã Unicode của l là: 108\n",
            "Chữ cái in hoa của l là: L\n"
          ]
        }
      ]
    },
    {
      "cell_type": "markdown",
      "metadata": {
        "id": "2aee72e0"
      },
      "source": [
        "#####*<font color = \"palegreen\">[W2A7]</font> [Operations]*\n",
        "\n",
        "Hãy in ra kết quả của hai biểu thức sau:\n",
        "A = ((13 ** 2) * 3) + 5 và B = 13 ** 2 * 3 + 5\n",
        "<br>\n",
        "Chú ý: Hãy để ý phong cách viết mã của A"
      ]
    },
    {
      "cell_type": "code",
      "source": [
        "#Tạo dữ liệu\n",
        "A = ((13**2)*3) + 5\n",
        "B = 13**2*3 + 5\n",
        "#Viết kết quả\n",
        "print (f\"A = ((13**2)*3) + 5 = {A} \")\n",
        "print (f\"B = 13**2*3 + 5 = {B}\")\n",
        "#Kiểm tra so sánh\n",
        "print (\"A - B = \" , f\"{(A-B)}\")"
      ],
      "metadata": {
        "colab": {
          "base_uri": "https://localhost:8080/"
        },
        "id": "ALxlhbaKxAMh",
        "outputId": "a1c443e5-148c-4183-fa60-df506666e83a"
      },
      "execution_count": null,
      "outputs": [
        {
          "output_type": "stream",
          "name": "stdout",
          "text": [
            "A = ((13**2)*3) + 5 = 512 \n",
            "B = 13**2*3 + 5 = 512\n",
            "A - B =  0\n"
          ]
        }
      ]
    },
    {
      "cell_type": "markdown",
      "metadata": {
        "id": "e6a37b57"
      },
      "source": [
        "#####*<font color = \"palegreen\">[W2A8]</font> [CelsiusTranfer]*\n",
        "\n",
        "Fahrenheit, hay độ F, là một thang nhiệt độ được đặt theo tên nhà vật lý người Đức Daniel\n",
        "Gabriel Fahrenheit (1686–1736). Dựa vào nhiệt độ Celcius được nhập từ bàn phím, hãy\n",
        "chuyển sang độ F theo công thức: F = 9/5*C + 32 và in ra màn hình kết quả. Kết quả làm\n",
        "tròn đến hai chữ số thập phân đằng sau dấu phẩy"
      ]
    },
    {
      "cell_type": "code",
      "source": [
        "C = float(input(\"Nhiệt độ hiện tại theo thang độ C là: \"))\n",
        "F = C*(9/5) + 32\n",
        "print(f\"{C} độ C bằng {F:.2f} độ F\")\n"
      ],
      "metadata": {
        "id": "XHMUzrUmuDA1",
        "colab": {
          "base_uri": "https://localhost:8080/"
        },
        "outputId": "65e57288-0463-48d7-f410-3d3f5cdb01c3"
      },
      "execution_count": null,
      "outputs": [
        {
          "output_type": "stream",
          "name": "stdout",
          "text": [
            "Nhiệt độ hiện tại theo thang độ C là: 31\n",
            "31.0 độ C bằng 87.80 độ F\n"
          ]
        }
      ]
    },
    {
      "cell_type": "markdown",
      "metadata": {
        "id": "1861b682"
      },
      "source": [
        "#####*<font color = \"palegreen\">[W2A9]</font> [ShoppingOnline]*\n",
        "\n",
        "Sơn Tùng mua một chiếc đồng hồ Movado trên trang mua sắm trực tuyến Amazon. Chiếc đồng hồ có giá x USD (x nhập từ bàn phím).\n",
        "Bởi Amazon không vận chuyển trực tiếp về Việt Nam, Đạt phải trả 10 USD cho phí vận chuyển từ một nước trung gian.\n",
        "Khi vận chuyển về Việt Nam, Đạt được thông báo sẽ phải trả thêm 30% thuế xuất nhập cảnh và 10% thuế VAT cho chiếc đồng hồ nói trên.\n",
        ">Viết chương trình tính tổng số tiền mà Đạt phải trả để mua được chiếc đồng hồ trên (USD).\n",
        "Kết quả làm tròn đến hai chữ số thập phân."
      ]
    },
    {
      "cell_type": "code",
      "source": [
        "price = float(input(\"Chiếc đồng hồ giá (USD): \"))\n",
        "#Thuế Nhập khẩu\n",
        "FOB = price*(30/100)\n",
        "#Thuế VAT\n",
        "VAT = price*(10/100)\n",
        "#Chi phí vận chuyển\n",
        "Ship = 10\n",
        "#Tính\n",
        "CostOff = price + VAT + FOB + Ship\n",
        "#In kết quả\n",
        "print(f\"Chi phí phải bỏ ra gồm: \\n -Thuế nhập khẩu: {FOB} USD \\n -Phí VAT: {VAT} USD \\n -Phí vận chuyển: {Ship} USD \\n => Tổng = {CostOff:.2f} USD\")"
      ],
      "metadata": {
        "colab": {
          "base_uri": "https://localhost:8080/"
        },
        "id": "EQzrMzm2w--d",
        "outputId": "fb710fea-add0-4f6e-ffdc-31e82fb708a2"
      },
      "execution_count": null,
      "outputs": [
        {
          "output_type": "stream",
          "name": "stdout",
          "text": [
            "Chiếc đồng hồ giá (USD): 10\n",
            "Chi phí phải bỏ ra gồm: \n",
            " -Thuế nhập khẩu: 3.0 USD \n",
            " -Phí VAT: 1.0 USD \n",
            " -Phí vận chuyển: 10 USD \n",
            " => Tổng = 24.0 USD\n"
          ]
        }
      ]
    },
    {
      "cell_type": "markdown",
      "metadata": {
        "id": "ce7efd69"
      },
      "source": [
        "#####*<font color = \"palegreen\">[W2A10]</font> [Friend Names]*\n",
        "\n",
        "Viết chương trình nhập vào tên 3 người từ bàn phím.\n",
        "In ra màn hình tên theo thứ tự đảo ngược.\n",
        "<br>\n",
        "VD: input (\"Bob Alice Helen\") thì output: (\"Hi Helen, Alice and Bob.\")"
      ]
    },
    {
      "cell_type": "code",
      "source": [
        "#Nhập vào 3 người\n",
        "nameInput = input(\"Nhập vào lần lượt ba tên người: \").split()\n",
        "\n",
        "if len(nameInput) != 3:\n",
        "    print(\"Lỗi số người đã nhập! Vui lòng nhập đúng 3 tên người!\")\n",
        "else:\n",
        "    nameInput.reverse()\n",
        "    print(f\"Xin chào bạn {nameInput[0]}, {nameInput[1]} và {nameInput[2]}\")\n"
      ],
      "metadata": {
        "colab": {
          "base_uri": "https://localhost:8080/"
        },
        "id": "tGSa5f6Gw-ux",
        "outputId": "e57a3cb6-3a5c-47f9-d77a-b9184c7f0be7"
      },
      "execution_count": null,
      "outputs": [
        {
          "output_type": "stream",
          "name": "stdout",
          "text": [
            "Nhập vào lần lượt ba tên người: vananh dangdung tranuyen\n",
            "Xin chào bạn tranuyen, dangdung và vananh\n"
          ]
        }
      ]
    },
    {
      "cell_type": "markdown",
      "metadata": {
        "id": "76c11e98"
      },
      "source": [
        "#####*<font color = \"palegreen\">[W2A11]</font>*\n",
        "\n",
        "Viết chương trình chuyển từ giờ và phút sang giây\n",
        "<br>\n",
        "Đầu vào gồm hai giá trị chứa số giờ h và số phút m:\n",
        "<br>\n",
        "Đầu ra: In ra màn hình một dòng duy nhất số giờ và phút được chuyển sang đơn vị giây."
      ]
    },
    {
      "cell_type": "code",
      "source": [
        "\n",
        "hour = float(input(\"Nhập số giờ: \"))\n",
        "minute = float(input(\"Nhập số phút: \"))\n",
        "#Đổi\n",
        "hourToSecond = hour * 3600\n",
        "minuteToSecond = minute * 60\n",
        "totalSecond = hourToSecond + minuteToSecond\n",
        "#In\n",
        "print(f\"Quy đổi: {totalSecond} Giây\")"
      ],
      "metadata": {
        "colab": {
          "base_uri": "https://localhost:8080/"
        },
        "id": "mn8xSfgZw-JQ",
        "outputId": "f6b30856-5c9d-4ba3-c9bf-b5b8b3aed4c8"
      },
      "execution_count": null,
      "outputs": [
        {
          "output_type": "stream",
          "name": "stdout",
          "text": [
            "Nhập số giờ: 15\n",
            "Nhập số phút: 2\n",
            "Quy đổi: 54120.0 Giây\n"
          ]
        }
      ]
    },
    {
      "cell_type": "markdown",
      "metadata": {
        "id": "7c03692e"
      },
      "source": [
        "#####*<font color = \"palegreen\">[W2A12]</font>*\n",
        "\n",
        "Cho một khối Rubik có độ dài cạnh là n, hãy trả về số lượng miếng dán riêng lẻ cần thiết để bao phủ toàn bộ khối lập phương.\n",
        "<br>\n",
        "Ví dụ, khối rubic có độ dài cạnh là 1 cần 6 miếng dán riêng lẻ.\n",
        "<br>\n",
        "(Lưu ý: một khối rubic có 6 mặt)"
      ]
    },
    {
      "cell_type": "code",
      "source": [
        "canh = float(input(\"Cạnh có độ dài là: \"))\n",
        "somanh = (canh**2)*6\n",
        "print(f\"Số miếng dán cần là:  {somanh}\")\n"
      ],
      "metadata": {
        "colab": {
          "base_uri": "https://localhost:8080/"
        },
        "id": "g7JBbqO0w93B",
        "outputId": "0fc168a2-c555-448c-ce9c-b50fb9167c3e"
      },
      "execution_count": null,
      "outputs": [
        {
          "output_type": "stream",
          "name": "stdout",
          "text": [
            "Cạnh có độ dài là: 7\n",
            "Số miếng dán cần là:  294.0\n"
          ]
        }
      ]
    },
    {
      "cell_type": "markdown",
      "metadata": {
        "id": "48090f83"
      },
      "source": [
        "#####*<font color = \"palegreen\">[W2A13]</font>*\n",
        "\n",
        "Nhập vào từ bàn phím hai số nguyên dương a và b, viết chương trình trả về hàng đơn vị của phép tính tích giữa a và b."
      ]
    },
    {
      "cell_type": "code",
      "source": [
        "a , b = map(int,input(\"Nhập giá trị của a và b: \").split())\n",
        "Caculator = (a * b) % 10\n",
        "print(f\" Chữ số hàng đơn vị của phép tính: {a} x {b} là: {Caculator}\")\n",
        "print(f\"Explain: \\n - đặt a * b = c \\n - thì c sẽ là một số có dạng a1a2a3...an = (a1a2...a(n-1)*10 + an) \\n - khi đó / 10 lấy dư sẽ ra an\")\n"
      ],
      "metadata": {
        "colab": {
          "base_uri": "https://localhost:8080/"
        },
        "id": "oT7xCDpnw9n1",
        "outputId": "ecf4dc5c-c200-4ffc-b6d6-379a07012268"
      },
      "execution_count": null,
      "outputs": [
        {
          "output_type": "stream",
          "name": "stdout",
          "text": [
            "Nhập giá trị của a và b: 9 7\n",
            " Chữ số hàng đơn vị của phép tính: 9 x 7 là: 3\n",
            "Explain: \n",
            " - đặt a * b = c \n",
            " - thì c sẽ là một số có dạng a1a2a3...an = (a1a2...a(n-1)*10 + an) \n",
            " - khi đó / 10 lấy dư sẽ ra an\n"
          ]
        }
      ]
    },
    {
      "cell_type": "markdown",
      "metadata": {
        "id": "344c3bcf"
      },
      "source": [
        "#####*<font color = \"palegreen\">[W2A14]</font>*\n",
        "\n",
        "Viết chương trình hoán đổi giá trị giữa hai số a và b mà không cần khai báo thêm một biến/ hàm nào khác."
      ]
    },
    {
      "cell_type": "code",
      "source": [
        "a , b = map(float, input(\"Nhập lần lượt giá trị của a và b: \").split())\n",
        "a , b = b , a\n",
        "print(f\" a = {a} và b = {b}\")\n"
      ],
      "metadata": {
        "colab": {
          "base_uri": "https://localhost:8080/"
        },
        "id": "AD6NJdY8w9LA",
        "outputId": "c940bc52-0712-496a-fa96-a917b4658cbc"
      },
      "execution_count": null,
      "outputs": [
        {
          "output_type": "stream",
          "name": "stdout",
          "text": [
            "Nhập lần lượt giá trị của a và b: 1 5\n",
            " a = 5.0 và b = 1.0\n"
          ]
        }
      ]
    },
    {
      "cell_type": "markdown",
      "metadata": {
        "id": "eb403994"
      },
      "source": [
        "#####*<font color = \"palegreen\">[W2A15]</font>*\n",
        "\n",
        "Viết chương trình nhận vào một số nguyên dương n và trả về \"số sao\" thứ n.\n",
        "\n",
        "Một \"số sao\" là một số hình học trung tâm đại diện cho một hình lục giác có tâm (ngôi sao sáu cánh), giống như hình dạng được sử dụng trong trò chơi cờ Trung Quốc."
      ]
    },
    {
      "cell_type": "markdown",
      "source": [
        "![Picture](https://portal.uet.vnu.edu.vn/courses/3555/files/795456/download?download_frd=1)"
      ],
      "metadata": {
        "id": "nJXDzIzSygSg"
      }
    },
    {
      "cell_type": "code",
      "source": [
        "n =int(input(\"Nhập số n nguyên dương: \"))\n",
        "if n <= 0:\n",
        "    print(\"Hãy nhập số nguyên dương!\")\n",
        "else:\n",
        "    star_number = 6*n*(n - 1) + 1\n",
        "    print(f\"Số sao là: {star_number}\")\n",
        "#Giải thích công thức:\n",
        "#Với n = 1 -> addition = 1 + 6 + 6x(-1)\n",
        "#Với n = 2 -> addition = 6 + 6x1\n",
        "#với n = 3 -> addition = 6 + 6x3\n",
        "#với n = 4 -> addition = 6 + 6x5\n",
        "#.......\n",
        "#với  n = k -> addition = 6 + 6x(2k-3) = 6x(2k-2) = 12x(k-1) (k>=1)\n",
        "#Total(tổng) = số sao cần tìm = star_number = n1 + n2 + n3 + .... n(k) = 1 + 12x(0 + 2 + 4 + ... + k-1) = 1 + 12x( (((k-1) +1 ) x k)/2 )= 1 + 6k(k-1)"
      ],
      "metadata": {
        "colab": {
          "base_uri": "https://localhost:8080/"
        },
        "id": "3o9fUMcVw7dg",
        "outputId": "7ab1e6ad-0c75-4aeb-e9f8-1e4f9ce221e6"
      },
      "execution_count": null,
      "outputs": [
        {
          "output_type": "stream",
          "name": "stdout",
          "text": [
            "Nhập số n nguyên dương: 3\n",
            "Số sao là: 37\n"
          ]
        }
      ]
    },
    {
      "cell_type": "markdown",
      "metadata": {
        "id": "f7216101"
      },
      "source": [
        "#####*<font color = \"palegreen\">[W2A16]</font> [SeasonsInYear]*\n",
        "\n",
        "Trong bài tập này, bạn sẽ sử dụng hàm print để in nhiều dòng ra màn hình. Có nhiều cách để làm việc này, cách thứ nhất là sử dụng lệnh print nhiều lần để in nhiều dòng khác nhau. Ví dụ, để in ra tên 4 mùa bằng tiếng Anh trên 4 dòng, bạn dùng 4 lệnh như sau:\n",
        "<br>\n",
        "print(\"Spring\")<br>\n",
        "print(\"Summer\")<br>\n",
        "print(\"Autumn\")<br>\n",
        "print(\"Winter\")<br>\n",
        "<br>\n",
        "Trong cách thứ hai, bạn sử dụng duy nhất một lệnh print và đưa liên tiếp các dòng chữ trên ra như sau:\n",
        "print(\"Spring\\nSummer\\nAutumn\\nWinter\")\n",
        "<br>\n",
        "Lưu ý rằng đây là một lệnh duy nhất, khi gặp dấu ‘\\n’ là một kí tự xuống dòng được in ra. Ngoài ra, bạn hãy tự tìm hiểu xem có còn cách nào khác không.\n",
        "Để luyện tập, hãy viết vào ô dưới đây chương trình in ra trên màn hình tên các mùa trong năm bằng tiếng Anh. Mỗi mùa in trên một dòng, bắt đầu từ \"Spring\"."
      ]
    },
    {
      "cell_type": "code",
      "source": [
        "season = ['Spring' , 'Summer' , 'Fall' , 'Winter' ]\n",
        "for i in season:\n",
        "    print(i)"
      ],
      "metadata": {
        "colab": {
          "base_uri": "https://localhost:8080/"
        },
        "id": "qPV79eBQw7CM",
        "outputId": "de050371-6a28-47c4-eaab-aa059aee9454"
      },
      "execution_count": null,
      "outputs": [
        {
          "output_type": "stream",
          "name": "stdout",
          "text": [
            "Spring\n",
            "Summer\n",
            "Fall\n",
            "Winter\n"
          ]
        }
      ]
    },
    {
      "cell_type": "markdown",
      "metadata": {
        "id": "14e074d0"
      },
      "source": [
        "#####*<font color = \"palegreen\">[W2A17]</font> [DrawTriangle]*\n",
        "\n",
        "Sử dụng hàm print, bạn có thể in ra các dòng văn bản, các câu thông báo. Ngoài ra, với chút nghệ thuật xếp đặt (ký tự), bạn có thể vẽ nhiều hình vẽ đẹp và thú vị. Giới hạn chính là trí tưởng tượng của bạn.\n",
        "<br>\n",
        "Trong bài này, bạn được yêu cầu viết chương trình vẽ ra một tam giác cân bằng các dấu sao trên 3 dòng. Hãy kết hợp việc sử dụng khoảng trắng với các dấu sao để in ra tam giác này.\n",
        "<br>\n",
        "Ví dụ, đoạn mã để in 2 dòng đầu của tam giác:\n",
        "<br>\n",
        "print(\"\" * \"\")\n",
        "<br>\n",
        "print(\"\" *** \"\")\n",
        "<br>\n",
        "Yêu cầu: In ra màn hình tam giác có 3 dòng như sau:\n",
        "<br>\n",
        "\" * \"\n",
        "<br>\n",
        "\" *** \"\n",
        "<br>\n",
        "\" ***** \""
      ]
    },
    {
      "cell_type": "code",
      "source": [
        "for i in range(0,3):\n",
        "    print(\"*\" * (2*i + 1)) #Số sao theo từng bậc là 1 số lẻ"
      ],
      "metadata": {
        "colab": {
          "base_uri": "https://localhost:8080/"
        },
        "id": "LT6EOevcw6pU",
        "outputId": "cf5b9d8d-395f-4c9a-986f-9b09df5afca3"
      },
      "execution_count": null,
      "outputs": [
        {
          "output_type": "stream",
          "name": "stdout",
          "text": [
            "*\n",
            "***\n",
            "*****\n"
          ]
        }
      ]
    },
    {
      "cell_type": "markdown",
      "metadata": {
        "id": "c4b2f346"
      },
      "source": [
        "#####*<font color = \"palegreen\">[W2A18]</font> [Banner]*\n",
        "\n",
        "Viết chương trình in ra dòng chữ \"TDTT\" như sau:\n"
      ]
    },
    {
      "cell_type": "code",
      "source": [
        "\n",
        "banner_T = [\"###\",\" # \",\" # \", \" # \"]\n",
        "banner_D = [\"## \", \"# #\", \"# #\", \"## \"]\n",
        "for D, T in zip(banner_D, banner_T):\n",
        "  print( T + \" \" + D + \" \" + T + \" \" + T)"
      ],
      "metadata": {
        "colab": {
          "base_uri": "https://localhost:8080/"
        },
        "id": "xS5xyAPjw6Pl",
        "outputId": "0aaf0cb6-13fa-4dac-8630-7cd06220786d"
      },
      "execution_count": null,
      "outputs": [
        {
          "output_type": "stream",
          "name": "stdout",
          "text": [
            "### ##  ### ###\n",
            " #  # #  #   # \n",
            " #  # #  #   # \n",
            " #  ##   #   # \n"
          ]
        }
      ]
    },
    {
      "cell_type": "markdown",
      "source": [
        "#####*<font color = \"palegreen\">[W2A19]</font>*\n",
        "Viết chương trình in ra các ngày trong một tuần bằng tiếng Anh.<br>\n",
        "Mỗi ngày in trên một dòng <br>\n",
        "Monday  <br>\n",
        "Tuesday <br>\n",
        "Wednesday <br>\n",
        "Thursday <br>\n",
        "Friday <br>\n",
        "Saturday <br>\n",
        "Sunday<br>"
      ],
      "metadata": {
        "id": "_EUGcXYlwvap"
      }
    },
    {
      "cell_type": "code",
      "source": [
        "print(\"Monday\")\n",
        "print(\"Tuesday\")\n",
        "print(\"Wednesday\")\n",
        "print(\"Thursday\")\n",
        "print(\"Friday\")\n",
        "print(\"Saturday\")\n",
        "print(\"Sunday\")"
      ],
      "metadata": {
        "colab": {
          "base_uri": "https://localhost:8080/"
        },
        "id": "DyLfe1jdw5nO",
        "outputId": "cf234787-cc0f-4c31-f7be-701e47fa7a33"
      },
      "execution_count": null,
      "outputs": [
        {
          "output_type": "stream",
          "name": "stdout",
          "text": [
            "Monday\n",
            "Tuesday\n",
            "Wednesday\n",
            "Thursday\n",
            "Friday\n",
            "Saturday\n",
            "Sunday\n"
          ]
        }
      ]
    },
    {
      "cell_type": "markdown",
      "metadata": {
        "id": "21420b35"
      },
      "source": [
        "#####*<font color = \"palegreen\">[W2A20]</font> [Months of the year]*\n",
        "\n",
        "Viết chương trình in ra các tháng trong một năm bằng tiếng Anh. Mỗi tháng in trên một\n",
        "dòng, bắt đầu từ \"January\"."
      ]
    },
    {
      "cell_type": "code",
      "metadata": {
        "colab": {
          "base_uri": "https://localhost:8080/"
        },
        "id": "187b7cda",
        "outputId": "80242aa3-70bb-4a4d-a6e6-d037725bcc30"
      },
      "source": [
        "month = ['January', 'Febuary', 'March', 'April', 'May', 'June' , 'July' , 'August' , 'September' , 'October' , 'November' , 'December' ]\n",
        "month = [print(item) for item in month]\n"
      ],
      "execution_count": null,
      "outputs": [
        {
          "output_type": "stream",
          "name": "stdout",
          "text": [
            "January\n",
            "Febuary\n",
            "March\n",
            "April\n",
            "May\n",
            "June\n",
            "July\n",
            "August\n",
            "September\n",
            "October\n",
            "November\n",
            "December\n"
          ]
        }
      ]
    },
    {
      "cell_type": "markdown",
      "metadata": {
        "id": "6ad7abc7"
      },
      "source": [
        "#####*<font color = \"palegreen\">[W2A21]</font> [Ten Hello World]*\n",
        "\n",
        "Viết chương trình in ra màn hình dòng chữ \"Hello, world\" 10 lần.\n",
        "Hello, world\n",
        "Hello, world\n",
        "Hello, world\n",
        "Hello, world\n",
        "Hello, world\n",
        "Hello, world\n",
        "Hello, world\n",
        "Hello, world\n",
        "Hello, world\n",
        "Hello, world"
      ]
    },
    {
      "cell_type": "code",
      "metadata": {
        "colab": {
          "base_uri": "https://localhost:8080/"
        },
        "id": "62b59514",
        "outputId": "e4362505-4658-4f9e-b177-3243a14a91b7"
      },
      "source": [
        "i = 1\n",
        "for i in range (0, 10):\n",
        "    print(\"Hello, World!\")"
      ],
      "execution_count": null,
      "outputs": [
        {
          "output_type": "stream",
          "name": "stdout",
          "text": [
            "Hello, World!\n",
            "Hello, World!\n",
            "Hello, World!\n",
            "Hello, World!\n",
            "Hello, World!\n",
            "Hello, World!\n",
            "Hello, World!\n",
            "Hello, World!\n",
            "Hello, World!\n",
            "Hello, World!\n"
          ]
        }
      ]
    }
  ]
}