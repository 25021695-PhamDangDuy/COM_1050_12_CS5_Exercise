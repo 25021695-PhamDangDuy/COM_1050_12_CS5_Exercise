{
  "nbformat": 4,
  "nbformat_minor": 0,
  "metadata": {
    "colab": {
      "provenance": [],
      "collapsed_sections": [
        "48090f83",
        "344c3bcf",
        "eb403994"
      ],
      "authorship_tag": "ABX9TyNjcBbxP3rLzUh/Xhr9Owsm",
      "include_colab_link": true
    },
    "kernelspec": {
      "name": "python3",
      "display_name": "Python 3"
    },
    "language_info": {
      "name": "python"
    }
  },
  "cells": [
    {
      "cell_type": "markdown",
      "metadata": {
        "id": "view-in-github",
        "colab_type": "text"
      },
      "source": [
        "<a href=\"https://colab.research.google.com/github/25021695-PhamDangDuy/COM_1050_12_CS5_Exercise/blob/main/Excercise_Week1_COM_1050_12_CS5.ipynb\" target=\"_parent\"><img src=\"https://colab.research.google.com/assets/colab-badge.svg\" alt=\"Open In Colab\"/></a>"
      ]
    },
    {
      "cell_type": "markdown",
      "source": [
        "# **<font color = \"palegred\">Bài Tập Lab01 - Tuần 1 của (25021695-Phạm Đăng Duy)</font>**\n",
        ">Link (https://portal.uet.vnu.edu.vn/courses/3555/files/769290/download?download_frd=1)"
      ],
      "metadata": {
        "id": "l3PJ8JJFocAa"
      }
    },
    {
      "cell_type": "markdown",
      "source": [
        "#####*<font color = \"palegreen\">[W2A1]</font>* Hãy viết chương trình in ra dòng chữ \"Hello World!\" vào ô dưới đây rồi ấn Nộp bài để kiểm tra xem bạn đã biết cách in một thông báo ra màn hình.\n"
      ],
      "metadata": {
        "id": "FVnGm3KaoyWi"
      }
    },
    {
      "cell_type": "code",
      "source": [
        "print(\"Hello World!\")"
      ],
      "metadata": {
        "colab": {
          "base_uri": "https://localhost:8080/"
        },
        "id": "B0LKNHFpqMNc",
        "outputId": "fbc157e8-ac14-4e32-fc36-5f4990232350"
      },
      "execution_count": null,
      "outputs": [
        {
          "output_type": "stream",
          "name": "stdout",
          "text": [
            "Hello World!\n"
          ]
        }
      ]
    },
    {
      "cell_type": "markdown",
      "source": [
        "#####*<font color = \"palegreen\">[W2A2]</font>*  Viết chương trình nhận đầu vào là tên người từ bàn phím và in ra màn hình lời chào tương ứng."
      ],
      "metadata": {
        "id": "5Y55Xh2CqS6F"
      }
    },
    {
      "cell_type": "code",
      "source": [
        "username = input(\"Tên của bạn là: \")\n",
        "print(f\"Xin chào {username}, bạn khỏe không?\")"
      ],
      "metadata": {
        "colab": {
          "base_uri": "https://localhost:8080/"
        },
        "id": "rmaQrytDqbKL",
        "outputId": "0494215e-577a-4ea1-a924-7feed053f42b"
      },
      "execution_count": null,
      "outputs": [
        {
          "output_type": "stream",
          "name": "stdout",
          "text": [
            "Tên của bạn là: DuyPham\n",
            "Xin chào DuyPham, bạn khỏe không?\n"
          ]
        }
      ]
    },
    {
      "cell_type": "markdown",
      "source": [
        "#####*<font color = \"palegreen\">[W2A3]</font>*\n",
        "Viết chương trình nhận vào hai số nguyên a, b từ bàn phím. In ra tổng, hiệu, tích, phần nguyên, phần dư và kết quả chia thực của phép chia a cho b (lấy đến 2 chữ số phần thập phân) theo định dạng đúng của output"
      ],
      "metadata": {
        "id": "o4Uml7FOqm4O"
      }
    },
    {
      "cell_type": "code",
      "source": [
        "a = input(\"Nhập số nguyên a: \")\n",
        "b = input(\"Nhập số nguyên b: \")\n",
        "try:\n",
        "  a = int(a)\n",
        "  b = int(b)\n",
        "  print(f\"Tổng {a} + {b} = {a + b}\")\n",
        "  print(f\"Hiệu {a} - {b} = {a - b}\")\n",
        "  print(f\"Tích {a} x {b} = {a * b}\")\n",
        "  print(f\"Phần nguyên của phép chia {a} cho {b} = {a // b}\")\n",
        "  print(f\"Phần dư của phép chia {a} cho {b} = {a % b}\")\n",
        "  print(f\"Kết quả phép chia {a} cho {b} = {a / b:.2f}\")\n",
        "except ValueError:\n",
        "  print(\"Chỉ được nhập số nguyên\")\n",
        "  exit()\n"
      ],
      "metadata": {
        "colab": {
          "base_uri": "https://localhost:8080/"
        },
        "id": "xPDTtDjrqtH6",
        "outputId": "97853ae0-6d9c-431f-9ac1-2fa792838d52"
      },
      "execution_count": null,
      "outputs": [
        {
          "output_type": "stream",
          "name": "stdout",
          "text": [
            "Nhập số nguyên a: 151\n",
            "Nhập số nguyên b: 79\n",
            "Tổng 151 + 79 = 230\n",
            "Hiệu 151 - 79 = 72\n",
            "Tích 151 x 79 = 11929\n",
            "Phần nguyên của phép chia 151 cho 79 = 1\n",
            "Phần dư của phép chia 151 cho 79 = 72\n",
            "Kết quả phép chia 151 cho 79 = 1.91\n"
          ]
        }
      ]
    },
    {
      "cell_type": "markdown",
      "metadata": {
        "id": "2357446b"
      },
      "source": [
        "#####*<font color = \"palegreen\">[W2A4]</font> [AverageOfSix]*\n",
        "Viết chương trình python để tính điểm trung bình môn học của một học sinh trong lớp.\n",
        "Có tổng cộng 6 đầu điểm: a1, b1, c1, a2, b2, a3. Trong đó:\n",
        "* Các điểm a1, b1, c1 được nhân hệ số 1,\n",
        "* Các điểm a2, b2 được nhân hệ số 2,\n",
        "* Điểm a3 được nhân hệ số 3.\n",
        "\n",
        "Công thức tính điểm trung bình là: TB=((a1+b1+c1)+(a2+b2)×2+a3×3)/10\n",
        "\n",
        "Đầu vào: Trong bài tập này, dữ liệu vào chỉ gồm duy nhất một dòng bao gồm 6 số thể hiện cho 6 đầu điểm a1, b1, c1, a2, b2, a3 theo đúng thứ tự đó. Hai đầu điểm liên tiếp nhau sẽ được phân tách nhau bởi duy nhất 1 dấu cách.\n",
        "\n",
        "Đầu ra: Đầu ra là giá trị điểm trung bình môn học của 6 môn học, lấy đến 1 chữ số phần thập phân."
      ]
    },
    {
      "cell_type": "code",
      "source": [
        "\n",
        "user_input = (input(\"Nhập điểm a1, b1, c1, a2, b2, a3: \").split())\n",
        "try:\n",
        "  if len(user_input) != 6: #Kiểm thử bộ giá trị có vượt phần tử không\n",
        "    print(\"chỉ được nhập 6 giá trị\")\n",
        "    exit()\n",
        "  a1, b1, c1, a2, b2, a3 = map(float, user_input)\n",
        "  average = ((a1 + b1 + c1) + (a2 + b2) * 2 + a3 * 3) / 10\n",
        "  print(f\"Điểm trung bình của học sinh là: {average:.1f}\")\n",
        "except ValueError: #Kiểm thử xem bộ giá trị có chữ số không\n",
        "  print(\"Chỉ được nhập số thực\")\n",
        "  exit()"
      ],
      "metadata": {
        "colab": {
          "base_uri": "https://localhost:8080/"
        },
        "id": "jk7qlHcrvtjA",
        "outputId": "6bc08149-d26d-431b-efa8-6a2b6738614c"
      },
      "execution_count": null,
      "outputs": [
        {
          "output_type": "stream",
          "name": "stdout",
          "text": [
            "Nhập điểm a1, b1, c1, a2, b2, a3: 1 3 9 2 8 4\n",
            "Điểm trung bình của học sinh là: 4.5\n"
          ]
        }
      ]
    },
    {
      "cell_type": "markdown",
      "metadata": {
        "id": "dbf8b10c"
      },
      "source": [
        "#####*<font color = \"palegreen\">[W2A5]</font> [Exponentiation]*\n",
        "\n",
        "Trong Python, phép toán mũ (luỹ thừa) được viết bằng \"**\".\n",
        "Ví dụ: để tính 2^3 bạn viết 2 ** 3, và kết quả là 8.\n",
        "Cơ số và số mũ có thể có kiểu <font color = \"lightblue\">(float)</font> hoặc <font color = \"lightblue\">(int)</font>.\n",
        "Trong bài này bạn hãy nhập vào hai số a, b <font color = \"lightblue\">(int)</font> cách nhau một dấu cách, tính và in ra kết quả a mũ b."
      ]
    },
    {
      "cell_type": "code",
      "source": [
        "#Nhập dữ liệu\n",
        "a, b = map(int, input(\"Nhập vào lần lượt giá trị của a, b: \").split())\n",
        "#Tính toán\n",
        "Answer = a ** b\n",
        "print(f\"{a} ** {b} = {Answer}\")\n"
      ],
      "metadata": {
        "colab": {
          "base_uri": "https://localhost:8080/"
        },
        "id": "v69FqMSIxA9S",
        "outputId": "cbe0a213-956c-4d24-ab0f-891288bec3ae"
      },
      "execution_count": null,
      "outputs": [
        {
          "output_type": "stream",
          "name": "stdout",
          "text": [
            "Nhập vào lần lượt giá trị của a, b: 2 4\n",
            "2 ** 4 = 16\n"
          ]
        }
      ]
    },
    {
      "cell_type": "markdown",
      "metadata": {
        "id": "f7e83a17"
      },
      "source": [
        "#####*<font color = \"palegreen\">[W2A6]</font> [StringDataType]*\n",
        "\n",
        "“Chuỗi” trong python là các kí tự được xâu lại với nhau như những hạt trên một chiếc dây chuyền. Chính vì thế “chuỗi” còn được gọi là “xâu”.\n",
        "Một chuỗi gồm các kí tự nằm trong dấu nháy đơn '' hoặc nháy đôi \"”.\n",
        "Mỗi chuỗi (str) là một chuỗi các kí tự trong bảng mã Unicode kể từ Python 3 trở đi (Unicode là một tiêu chuẩn mã hóa kí tự toàn cầu, cho phép biểu diễn hầu hết mọi kí tự trong tất cả các ngôn ngữ trên thế giới, bao gồm cả kí hiệu, biểu tượng, emoji,….).\n",
        "Bạn có thể dùng ord() và chr() để làm việc với mã Unicode.\n",
        "<br>\n",
        ">Hãy nhập vào một kí tự chữ cái thường ‘a’…’z’, in ra mã Unicode của nó sau đó chuyển nó thành kí tự hoa tương ứng, in kí tự hoa này ra màn hình."
      ]
    },
    {
      "cell_type": "code",
      "source": [
        "userin = input(\"Nhập kí tự (từ a->z): \")\n",
        "print(f\"Mã Unicode của {userin} là: {ord(userin)}\")\n",
        "print(f\"Chữ cái in hoa của {userin} là: {userin.upper()}\")"
      ],
      "metadata": {
        "colab": {
          "base_uri": "https://localhost:8080/"
        },
        "id": "WANCNnmXxAfl",
        "outputId": "ca3205f9-4596-474a-d651-2f13a67414d3"
      },
      "execution_count": null,
      "outputs": [
        {
          "output_type": "stream",
          "name": "stdout",
          "text": [
            "Nhập kí tự (từ a->z): d\n",
            "Mã Unicode của d là: 100\n",
            "Chữ cái in hoa của d là: D\n"
          ]
        }
      ]
    },
    {
      "cell_type": "markdown",
      "metadata": {
        "id": "2aee72e0"
      },
      "source": [
        "#####*<font color = \"palegreen\">[W2A7]</font> [Operations]*\n",
        "\n",
        "Hãy in ra kết quả của hai biểu thức sau:\n",
        "A = ((13 ** 2) * 3) + 5 và B = 13 ** 2 * 3 + 5\n",
        "<br>\n",
        "Chú ý: Hãy để ý phong cách viết mã của A"
      ]
    },
    {
      "cell_type": "code",
      "source": [
        "#Tạo dữ liệu\n",
        "A = ((13**2)*3) + 5\n",
        "B = 13**2*3 + 5\n",
        "#Viết kết quả\n",
        "print (f\"A = ((13**2)*3) + 5 = {A} \")\n",
        "print (f\"B = 13**2*3 + 5 = {B}\")\n",
        "#Kiểm tra so sánh\n",
        "print (\"A - B = \" , f\"{(A-B)}\")"
      ],
      "metadata": {
        "colab": {
          "base_uri": "https://localhost:8080/"
        },
        "id": "ALxlhbaKxAMh",
        "outputId": "d04739c5-e64f-4b0e-9e1e-20e70d3a1d81"
      },
      "execution_count": null,
      "outputs": [
        {
          "output_type": "stream",
          "name": "stdout",
          "text": [
            "A = ((13**2)*3) + 5 = 512 \n",
            "B = 13**2*3 + 5 = 512\n",
            "A - B =  0\n"
          ]
        }
      ]
    },
    {
      "cell_type": "markdown",
      "metadata": {
        "id": "e6a37b57"
      },
      "source": [
        "#####*<font color = \"palegreen\">[W2A8]</font> [CelsiusTranfer]*\n",
        "\n",
        "Fahrenheit, hay độ F, là một thang nhiệt độ được đặt theo tên nhà vật lý người Đức Daniel\n",
        "Gabriel Fahrenheit (1686–1736). Dựa vào nhiệt độ Celcius được nhập từ bàn phím, hãy\n",
        "chuyển sang độ F theo công thức: F = 9/5*C + 32 và in ra màn hình kết quả. Kết quả làm\n",
        "tròn đến hai chữ số thập phân đằng sau dấu phẩy"
      ]
    },
    {
      "cell_type": "code",
      "source": [
        "C = float(input(\"Nhiệt độ hiện tại theo thang độ C là: \"))\n",
        "F = C*(9/5) + 32\n",
        "print(f\"{C} độ C bằng {F:.2f} độ F\")\n"
      ],
      "metadata": {
        "id": "XHMUzrUmuDA1",
        "colab": {
          "base_uri": "https://localhost:8080/"
        },
        "outputId": "7e7b0b4d-007a-422d-8dc5-7cc55379374d"
      },
      "execution_count": null,
      "outputs": [
        {
          "output_type": "stream",
          "name": "stdout",
          "text": [
            "Nhiệt độ hiện tại theo thang độ C là: 30\n",
            "30.0 độ C bằng 86.00 độ F\n"
          ]
        }
      ]
    },
    {
      "cell_type": "markdown",
      "metadata": {
        "id": "1861b682"
      },
      "source": [
        "#####*<font color = \"palegreen\">[W2A9]</font> [ShoppingOnline]*\n",
        "\n",
        "Sơn Tùng mua một chiếc đồng hồ Movado trên trang mua sắm trực tuyến Amazon. Chiếc đồng hồ có giá x USD (x nhập từ bàn phím).\n",
        "Bởi Amazon không vận chuyển trực tiếp về Việt Nam, Đạt phải trả 10 USD cho phí vận chuyển từ một nước trung gian.\n",
        "Khi vận chuyển về Việt Nam, Đạt được thông báo sẽ phải trả thêm 30% thuế xuất nhập cảnh và 10% thuế VAT cho chiếc đồng hồ nói trên.\n",
        ">Viết chương trình tính tổng số tiền mà Đạt phải trả để mua được chiếc đồng hồ trên (USD).\n",
        "Kết quả làm tròn đến hai chữ số thập phân."
      ]
    },
    {
      "cell_type": "code",
      "source": [
        "price = float(input(\"Chiếc đồng hồ giá (USD): \"))\n",
        "#Thuế Nhập khẩu\n",
        "FOB = price*(30/100)\n",
        "#Thuế VAT\n",
        "VAT = price*(10/100)\n",
        "#Chi phí vận chuyển\n",
        "Ship = 10\n",
        "#Tính\n",
        "CostOff = price + VAT + FOB + Ship\n",
        "#In kết quả\n",
        "print(f\"Chi phí phải bỏ ra gồm: \\n -Thuế nhập khẩu: {FOB} USD \\n -Phí VAT: {VAT} USD \\n -Phí vận chuyển: {Ship} USD \\n => Tổng = {CostOff:.2f} USD\")"
      ],
      "metadata": {
        "colab": {
          "base_uri": "https://localhost:8080/"
        },
        "id": "EQzrMzm2w--d",
        "outputId": "fb9f18c2-c634-45e3-c4cc-45dd13269a53"
      },
      "execution_count": null,
      "outputs": [
        {
          "output_type": "stream",
          "name": "stdout",
          "text": [
            "Chiếc đồng hồ giá (USD): 1000\n",
            "Chi phí phải bỏ ra gồm: \n",
            " -Thuế nhập khẩu: 300.0 USD \n",
            " -Phí VAT: 100.0 USD \n",
            " -Phí vận chuyển: 10 USD \n",
            " => Tổng = 1410.00 USD\n"
          ]
        }
      ]
    },
    {
      "cell_type": "markdown",
      "metadata": {
        "id": "ce7efd69"
      },
      "source": [
        "#####*<font color = \"palegreen\">[W2A10]</font> [Friend Names]*\n",
        "\n",
        "Viết chương trình nhập vào tên 3 người từ bàn phím.\n",
        "In ra màn hình tên theo thứ tự đảo ngược.\n",
        "<br>\n",
        "VD: input (\"Bob Alice Helen\") thì output: (\"Hi Helen, Alice and Bob.\")"
      ]
    },
    {
      "cell_type": "code",
      "source": [
        "#Nhập vào 3 người\n",
        "nameInput = input(\"Nhập vào lần lượt ba tên người: \").split()\n",
        "\n",
        "if len(nameInput) != 3:\n",
        "    print(\"Lỗi số người đã nhập! Vui lòng nhập đúng 3 tên người!\")\n",
        "else:\n",
        "    nameInput.reverse()\n",
        "    print(f\"Xin chào bạn {nameInput[0]}, {nameInput[1]} và {nameInput[2]}\")\n"
      ],
      "metadata": {
        "colab": {
          "base_uri": "https://localhost:8080/"
        },
        "id": "tGSa5f6Gw-ux",
        "outputId": "b24c7b96-5f44-4133-f9b7-29c1c98b631a"
      },
      "execution_count": null,
      "outputs": [
        {
          "output_type": "stream",
          "name": "stdout",
          "text": [
            "Nhập vào lần lượt ba tên người: Duy Linh Bao\n",
            "Xin chào bạn Bao, Linh và Duy\n"
          ]
        }
      ]
    },
    {
      "cell_type": "markdown",
      "metadata": {
        "id": "76c11e98"
      },
      "source": [
        "#####*<font color = \"palegreen\">[W2A11]</font>*\n",
        "\n",
        "Viết chương trình chuyển từ giờ và phút sang giây\n",
        "<br>\n",
        "Đầu vào gồm hai giá trị chứa số giờ h và số phút m:\n",
        "<br>\n",
        "Đầu ra: In ra màn hình một dòng duy nhất số giờ và phút được chuyển sang đơn vị giây."
      ]
    },
    {
      "cell_type": "code",
      "source": [
        "\n",
        "hour = float(input(\"Nhập số giờ: \"))\n",
        "minute = float(input(\"Nhập số phút: \"))\n",
        "#Đổi\n",
        "hourToSecond = hour * 3600\n",
        "minuteToSecond = minute * 60\n",
        "totalSecond = hourToSecond + minuteToSecond\n",
        "#In\n",
        "print(f\"Quy đổi: {totalSecond} Giây\")"
      ],
      "metadata": {
        "colab": {
          "base_uri": "https://localhost:8080/"
        },
        "id": "mn8xSfgZw-JQ",
        "outputId": "6c2632bf-6519-44e7-e9e0-910c416234c5"
      },
      "execution_count": null,
      "outputs": [
        {
          "output_type": "stream",
          "name": "stdout",
          "text": [
            "Nhập số giờ: 15\n",
            "Nhập số phút: 30\n",
            "Quy đổi: 55800.0 Giây\n"
          ]
        }
      ]
    },
    {
      "cell_type": "markdown",
      "metadata": {
        "id": "7c03692e"
      },
      "source": [
        "#####*<font color = \"palegreen\">[W2A12]</font>*\n",
        "\n",
        "Cho một khối Rubik có độ dài cạnh là n, hãy trả về số lượng miếng dán riêng lẻ cần thiết để bao phủ toàn bộ khối lập phương.\n",
        "<br>\n",
        "Ví dụ, khối rubic có độ dài cạnh là 1 cần 6 miếng dán riêng lẻ.\n",
        "<br>\n",
        "(Lưu ý: một khối rubic có 6 mặt)"
      ]
    },
    {
      "cell_type": "code",
      "source": [
        "canh = float(input(\"Cạnh có độ dài là: \"))\n",
        "somanh = (canh**2)*6\n",
        "print(f\"Số miếng dán cần là:  {somanh}\")\n"
      ],
      "metadata": {
        "colab": {
          "base_uri": "https://localhost:8080/"
        },
        "id": "g7JBbqO0w93B",
        "outputId": "05bb2f37-464e-47f4-851b-61e8b2af1cd0"
      },
      "execution_count": null,
      "outputs": [
        {
          "output_type": "stream",
          "name": "stdout",
          "text": [
            "Cạnh có độ dài là: 3\n",
            "Số miếng dán cần là:  54.0\n"
          ]
        }
      ]
    },
    {
      "cell_type": "markdown",
      "metadata": {
        "id": "48090f83"
      },
      "source": [
        "#####*<font color = \"palegreen\">[W2A13]</font>*\n",
        "\n",
        "Nhập vào từ bàn phím hai số nguyên dương a và b, viết chương trình trả về hàng đơn vị của phép tính tích giữa a và b."
      ]
    },
    {
      "cell_type": "code",
      "source": [
        "a , b = map(int,input(\"Nhập giá trị của a và b: \").split())\n",
        "Caculator = (a * b) % 10\n",
        "print(f\" Chữ số hàng đơn vị của phép tính: {a} x {b} là: {Caculator}\")\n",
        "print(f\"Explain: \\n - đặt a * b = c \\n - thì c sẽ là một số có dạng a1a2a3...an = (a1a2...a(n-1)*10 + an) \\n - khi đó / 10 lấy dư sẽ ra an\")\n"
      ],
      "metadata": {
        "colab": {
          "base_uri": "https://localhost:8080/"
        },
        "id": "oT7xCDpnw9n1",
        "outputId": "d2a6e57f-80b1-456f-c551-ea3875e7a9b3"
      },
      "execution_count": null,
      "outputs": [
        {
          "output_type": "stream",
          "name": "stdout",
          "text": [
            "Nhập giá trị của a và b: 5 10\n",
            " Chữ số hàng đơn vị của phép tính: 5 x 10 là: 0\n",
            "Explain: \n",
            " - đặt a * b = c \n",
            " - thì c sẽ là một số có dạng a1a2a3...an = (a1a2...a(n-1)*10 + an) \n",
            " - khi đó / 10 lấy dư sẽ ra an\n"
          ]
        }
      ]
    },
    {
      "cell_type": "markdown",
      "metadata": {
        "id": "344c3bcf"
      },
      "source": [
        "#####*<font color = \"palegreen\">[W2A14]</font>*\n",
        "\n",
        "Viết chương trình hoán đổi giá trị giữa hai số a và b mà không cần khai báo thêm một biến/ hàm nào khác."
      ]
    },
    {
      "cell_type": "code",
      "source": [
        "a , b = map(float, input(\"Nhập lần lượt giá trị của a và b: \").split())\n",
        "a , b = b , a\n",
        "print(f\" a = {a} và b = {b}\")\n"
      ],
      "metadata": {
        "colab": {
          "base_uri": "https://localhost:8080/"
        },
        "id": "AD6NJdY8w9LA",
        "outputId": "0caa3661-5c29-4e81-930a-40f1aa2a26bc"
      },
      "execution_count": null,
      "outputs": [
        {
          "output_type": "stream",
          "name": "stdout",
          "text": [
            "Nhập lần lượt giá trị của a và b: 10 5\n",
            " a = 5.0 và b = 10.0\n"
          ]
        }
      ]
    },
    {
      "cell_type": "markdown",
      "metadata": {
        "id": "eb403994"
      },
      "source": [
        "#####*<font color = \"palegreen\">[W2A15]</font>*\n",
        "\n",
        "Viết chương trình nhận vào một số nguyên dương n và trả về \"số sao\" thứ n.\n",
        "\n",
        "Một \"số sao\" là một số hình học trung tâm đại diện cho một hình lục giác có tâm (ngôi sao sáu cánh), giống như hình dạng được sử dụng trong trò chơi cờ Trung Quốc."
      ]
    },
    {
      "cell_type": "markdown",
      "source": [
        "![Picture](https://portal.uet.vnu.edu.vn/courses/3555/files/795456/download?download_frd=1)"
      ],
      "metadata": {
        "id": "nJXDzIzSygSg"
      }
    },
    {
      "cell_type": "code",
      "source": [
        "n =int(input(\"Nhập số n nguyên dương: \"))\n",
        "if n <= 0:\n",
        "    print(\"Hãy nhập số nguyên dương!\")\n",
        "else:\n",
        "    star_number = 6*n*(n - 1) + 1\n",
        "    print(f\"Số sao là: {star_number}\")\n",
        "#Giải thích công thức:\n",
        "#Với n = 1 -> addition = 1 + 6 + 6x(-1)\n",
        "#Với n = 2 -> addition = 6 + 6x1\n",
        "#với n = 3 -> addition = 6 + 6x3\n",
        "#với n = 4 -> addition = 6 + 6x5\n",
        "#.......\n",
        "#với  n = k -> addition = 6 + 6x(2k-3) = 6x(2k-2) = 12x(k-1) (k>=1)\n",
        "#Total(tổng) = số sao cần tìm = star_number = n1 + n2 + n3 + .... n(k) = 1 + 12x(0 + 2 + 4 + ... + k-1) = 1 + 12x( (((k-1) +1 ) x k)/2 )= 1 + 6k(k-1)"
      ],
      "metadata": {
        "colab": {
          "base_uri": "https://localhost:8080/"
        },
        "id": "3o9fUMcVw7dg",
        "outputId": "a0f92d9e-bf01-4efe-f32b-073d3c1c4ca0"
      },
      "execution_count": null,
      "outputs": [
        {
          "output_type": "stream",
          "name": "stdout",
          "text": [
            "Nhập số n nguyên dương: 4\n",
            "Số sao là: 73\n"
          ]
        }
      ]
    },
    {
      "cell_type": "markdown",
      "metadata": {
        "id": "f7216101"
      },
      "source": [
        "#####*<font color = \"palegreen\">[W2A16]</font> [SeasonsInYear]*\n",
        "\n",
        "Trong bài tập này, bạn sẽ sử dụng hàm print để in nhiều dòng ra màn hình. Có nhiều cách để làm việc này, cách thứ nhất là sử dụng lệnh print nhiều lần để in nhiều dòng khác nhau. Ví dụ, để in ra tên 4 mùa bằng tiếng Anh trên 4 dòng, bạn dùng 4 lệnh như sau:\n",
        "<br>\n",
        "print(\"Spring\")<br>\n",
        "print(\"Summer\")<br>\n",
        "print(\"Autumn\")<br>\n",
        "print(\"Winter\")<br>\n",
        "<br>\n",
        "Trong cách thứ hai, bạn sử dụng duy nhất một lệnh print và đưa liên tiếp các dòng chữ trên ra như sau:\n",
        "print(\"Spring\\nSummer\\nAutumn\\nWinter\")\n",
        "<br>\n",
        "Lưu ý rằng đây là một lệnh duy nhất, khi gặp dấu ‘\\n’ là một kí tự xuống dòng được in ra. Ngoài ra, bạn hãy tự tìm hiểu xem có còn cách nào khác không.\n",
        "Để luyện tập, hãy viết vào ô dưới đây chương trình in ra trên màn hình tên các mùa trong năm bằng tiếng Anh. Mỗi mùa in trên một dòng, bắt đầu từ \"Spring\"."
      ]
    },
    {
      "cell_type": "code",
      "source": [
        "season = ['Spring' , 'Summer' , 'Fall' , 'Winter' ]\n",
        "for i in season:\n",
        "    print(i)"
      ],
      "metadata": {
        "colab": {
          "base_uri": "https://localhost:8080/"
        },
        "id": "qPV79eBQw7CM",
        "outputId": "705fd8f2-b723-4b2d-cb23-19ff0aa3a9dc"
      },
      "execution_count": null,
      "outputs": [
        {
          "output_type": "stream",
          "name": "stdout",
          "text": [
            "Spring\n",
            "Summer\n",
            "Fall\n",
            "Winter\n"
          ]
        }
      ]
    },
    {
      "cell_type": "markdown",
      "metadata": {
        "id": "14e074d0"
      },
      "source": [
        "#####*<font color = \"palegreen\">[W2A17]</font> [DrawTriangle]*\n",
        "\n",
        "Sử dụng hàm print, bạn có thể in ra các dòng văn bản, các câu thông báo. Ngoài ra, với chút nghệ thuật xếp đặt (ký tự), bạn có thể vẽ nhiều hình vẽ đẹp và thú vị. Giới hạn chính là trí tưởng tượng của bạn.\n",
        "<br>\n",
        "Trong bài này, bạn được yêu cầu viết chương trình vẽ ra một tam giác cân bằng các dấu sao trên 3 dòng. Hãy kết hợp việc sử dụng khoảng trắng với các dấu sao để in ra tam giác này.\n",
        "<br>\n",
        "Ví dụ, đoạn mã để in 2 dòng đầu của tam giác:\n",
        "<br>\n",
        "print(\"\" * \"\")\n",
        "<br>\n",
        "print(\"\" *** \"\")\n",
        "<br>\n",
        "Yêu cầu: In ra màn hình tam giác có 3 dòng như sau:\n",
        "<br>\n",
        "\" * \"\n",
        "<br>\n",
        "\" *** \"\n",
        "<br>\n",
        "\" ***** \""
      ]
    },
    {
      "cell_type": "code",
      "source": [
        "for i in range(0,3):\n",
        "    print(\"*\" * (2*i + 1)) #Số sao theo từng bậc là 1 số lẻ"
      ],
      "metadata": {
        "colab": {
          "base_uri": "https://localhost:8080/"
        },
        "id": "LT6EOevcw6pU",
        "outputId": "60cba0b3-45b4-4fe4-81a4-f5976e8a10be"
      },
      "execution_count": null,
      "outputs": [
        {
          "output_type": "stream",
          "name": "stdout",
          "text": [
            "*\n",
            "***\n",
            "*****\n"
          ]
        }
      ]
    },
    {
      "cell_type": "markdown",
      "metadata": {
        "id": "c4b2f346"
      },
      "source": [
        "#####*<font color = \"palegreen\">[W2A18]</font> [Banner]*\n",
        "\n",
        "Viết chương trình in ra dòng chữ \"TDTT\" như sau:\n"
      ]
    },
    {
      "cell_type": "code",
      "source": [
        "\n",
        "banner_T = [\"###\",\" # \",\" # \", \" # \"]\n",
        "banner_D = [\"## \", \"# #\", \"# #\", \"## \"]\n",
        "for D, T in zip(banner_D, banner_T):\n",
        "  print( T + \" \" + D + \" \" + T + \" \" + T)"
      ],
      "metadata": {
        "colab": {
          "base_uri": "https://localhost:8080/"
        },
        "id": "xS5xyAPjw6Pl",
        "outputId": "20662e7f-78df-4dc8-9dc0-54d7eebe0611"
      },
      "execution_count": null,
      "outputs": [
        {
          "output_type": "stream",
          "name": "stdout",
          "text": [
            "### ##  ### ###\n",
            " #  # #  #   # \n",
            " #  # #  #   # \n",
            " #  ##   #   # \n"
          ]
        }
      ]
    },
    {
      "cell_type": "markdown",
      "source": [
        "#####*<font color = \"palegreen\">[W2A19]</font>*\n",
        "Viết chương trình in ra các ngày trong một tuần bằng tiếng Anh.<br>\n",
        "Mỗi ngày in trên một dòng <br>\n",
        "Monday  <br>\n",
        "Tuesday <br>\n",
        "Wednesday <br>\n",
        "Thursday <br>\n",
        "Friday <br>\n",
        "Saturday <br>\n",
        "Sunday<br>"
      ],
      "metadata": {
        "id": "_EUGcXYlwvap"
      }
    },
    {
      "cell_type": "code",
      "source": [
        "print(\"Monday\")\n",
        "print(\"Tuesday\")\n",
        "print(\"Wednesday\")\n",
        "print(\"Thursday\")\n",
        "print(\"Friday\")\n",
        "print(\"Saturday\")\n",
        "print(\"Sunday\")"
      ],
      "metadata": {
        "colab": {
          "base_uri": "https://localhost:8080/"
        },
        "id": "DyLfe1jdw5nO",
        "outputId": "9160dee0-4195-4e5b-cde2-e2faa7a1a7ec"
      },
      "execution_count": null,
      "outputs": [
        {
          "output_type": "stream",
          "name": "stdout",
          "text": [
            "Monday\n",
            "Tuesday\n",
            "Wednesday\n",
            "Thursday\n",
            "Friday\n",
            "Saturday\n",
            "Sunday\n"
          ]
        }
      ]
    },
    {
      "cell_type": "markdown",
      "metadata": {
        "id": "21420b35"
      },
      "source": [
        "#####*<font color = \"palegreen\">[W2A20]</font> [Months of the year]*\n",
        "\n",
        "Viết chương trình in ra các tháng trong một năm bằng tiếng Anh. Mỗi tháng in trên một\n",
        "dòng, bắt đầu từ \"January\"."
      ]
    },
    {
      "cell_type": "code",
      "metadata": {
        "colab": {
          "base_uri": "https://localhost:8080/"
        },
        "id": "187b7cda",
        "outputId": "61af01f8-559b-4c12-f181-45056bf79276"
      },
      "source": [
        "month = ['January', 'Febuary', 'March', 'April', 'May', 'June' , 'July' , 'August' , 'September' , 'October' , 'November' , 'December' ]\n",
        "month = [print(item) for item in month]\n"
      ],
      "execution_count": null,
      "outputs": [
        {
          "output_type": "stream",
          "name": "stdout",
          "text": [
            "January\n",
            "Febuary\n",
            "March\n",
            "April\n",
            "May\n",
            "June\n",
            "July\n",
            "August\n",
            "September\n",
            "October\n",
            "November\n",
            "December\n"
          ]
        }
      ]
    },
    {
      "cell_type": "markdown",
      "metadata": {
        "id": "6ad7abc7"
      },
      "source": [
        "#####*<font color = \"palegreen\">[W2A21]</font> [Ten Hello World]*\n",
        "\n",
        "Viết chương trình in ra màn hình dòng chữ \"Hello, world\" 10 lần.\n",
        "Hello, world\n",
        "Hello, world\n",
        "Hello, world\n",
        "Hello, world\n",
        "Hello, world\n",
        "Hello, world\n",
        "Hello, world\n",
        "Hello, world\n",
        "Hello, world\n",
        "Hello, world"
      ]
    },
    {
      "cell_type": "code",
      "metadata": {
        "colab": {
          "base_uri": "https://localhost:8080/"
        },
        "id": "62b59514",
        "outputId": "923ecfea-1278-43ff-a24c-e25cb07df1cb"
      },
      "source": [
        "i = 1\n",
        "for i in range (10):\n",
        "    print(\"Hello, World!\")"
      ],
      "execution_count": 1,
      "outputs": [
        {
          "output_type": "stream",
          "name": "stdout",
          "text": [
            "Hello, World!\n",
            "Hello, World!\n",
            "Hello, World!\n",
            "Hello, World!\n",
            "Hello, World!\n",
            "Hello, World!\n",
            "Hello, World!\n",
            "Hello, World!\n",
            "Hello, World!\n",
            "Hello, World!\n"
          ]
        }
      ]
    }
  ]
}