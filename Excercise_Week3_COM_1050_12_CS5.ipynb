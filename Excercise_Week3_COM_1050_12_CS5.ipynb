{
  "nbformat": 4,
  "nbformat_minor": 0,
  "metadata": {
    "colab": {
      "provenance": [],
      "authorship_tag": "ABX9TyP3LLTwSOd05qDoyp4NUGir",
      "include_colab_link": true
    },
    "kernelspec": {
      "name": "python3",
      "display_name": "Python 3"
    },
    "language_info": {
      "name": "python"
    }
  },
  "cells": [
    {
      "cell_type": "markdown",
      "metadata": {
        "id": "view-in-github",
        "colab_type": "text"
      },
      "source": [
        "<a href=\"https://colab.research.google.com/github/25021695-PhamDangDuy/COM_1050_12_CS5_Exercise/blob/main/Excercise_Week3_COM_1050_12_CS5.ipynb\" target=\"_parent\"><img src=\"https://colab.research.google.com/assets/colab-badge.svg\" alt=\"Open In Colab\"/></a>"
      ]
    },
    {
      "cell_type": "markdown",
      "source": [
        "#**<font color = \"palered\">Bài Tập Tuần 3 (25021695 - Phạm Đăng Duy)</font>**\n",
        "> Link: (https://portal.uet.vnu.edu.vn/courses/3555/files/814753/download?download_frd=1)"
      ],
      "metadata": {
        "id": "s2ULONImwP8H"
      }
    },
    {
      "cell_type": "markdown",
      "source": [
        "##**<font color = \"palered\">[Bài 1]</font>** Viết một chương trình nhập vào một số nguyên n và in ra số đảo ngược của nó:\n",
        "Ví dụ: <br>\n",
        "2301 - 1032<br>\n",
        "0 - 0"
      ],
      "metadata": {
        "id": "5BM4YjgPxxuz"
      }
    },
    {
      "cell_type": "code",
      "source": [
        "def reverse_number(num):       #Hàm đảo ngược số\n",
        "    create_digit = 0                              #Biến tạo số mới\n",
        "    while (num > 0):                      #Nguyên lí hoạt động: dùng % để lấy số cuối cùng của mỗi phép chia lấy nguyên cho 10 cho đến khi số ban đầu lấy nguyên cho 10 bằng 0 thì dừng\n",
        "        last_digit_this_turn = num % 10\n",
        "        create_digit = create_digit * 10 + last_digit_this_turn\n",
        "        num //= 10\n",
        "    return create_digit\n",
        "\n",
        "user_input_n = int(input(\"Nhập vào số nguyên n: \"))\n",
        "sign = 1 if (user_input_n >= 0) else -1\n",
        "print(f\"Số đảo ngược là: {sign * reverse_number(abs(user_input_n))}\")\n",
        "\n",
        "\n"
      ],
      "metadata": {
        "colab": {
          "base_uri": "https://localhost:8080/"
        },
        "id": "Sv5yeKlY2LxT",
        "outputId": "5ca4337e-6024-4741-8de4-4f25ce3672f2"
      },
      "execution_count": null,
      "outputs": [
        {
          "output_type": "stream",
          "name": "stdout",
          "text": [
            "Nhập vào số nguyên n: 0293093\n",
            "Số đảo ngược là: 390392\n"
          ]
        }
      ]
    },
    {
      "cell_type": "markdown",
      "source": [
        "##**<font color = \"palered\">[Bài 2]</font>** Hoán đổi hai số không sd biến tạm thời\n",
        "Sử dụng phép toán XOR bitwise để hoán đổi giá trị của hai biến."
      ],
      "metadata": {
        "id": "UOAcCOzX_XSU"
      }
    },
    {
      "cell_type": "code",
      "source": [
        "#Ý tưởng: gọi c = a ^ b thì khi lấy kết quả XOR bitwise này đi XOR với a hoặc b thì sẽ ra b , a\n",
        "#Chứng minh: Giả sử a có số bit nhị phân là 101101, b là 110100 -> c = 011001 khi đó thì c ^ a = 110100, c ^ b = 101101\n",
        "a = int(input(\"Nhập vào số nguyên a: \"))\n",
        "b = int(input(\"Nhập vào số nguyên b: \"))\n",
        "print(f\"a = {(a^b)^a}, b = {(a^b) ^ b}\")"
      ],
      "metadata": {
        "colab": {
          "base_uri": "https://localhost:8080/"
        },
        "id": "DSBUDcxlzHVR",
        "outputId": "58a8e32d-954f-4e98-b979-2abd3e219cc5"
      },
      "execution_count": null,
      "outputs": [
        {
          "output_type": "stream",
          "name": "stdout",
          "text": [
            "Nhập vào số nguyên a: 3\n",
            "Nhập vào số nguyên b: 2\n",
            "a = 2, b = 3\n"
          ]
        }
      ]
    },
    {
      "cell_type": "markdown",
      "source": [
        "##**<font color = \"palered\">[Bài 3]</font>** Kiểm tra xem một số có phải là lũy thừa của 2 hay không\n",
        "Sử dụng các toán tử bitwise để xác định xem một số có phải là lũy thừa của 2 hay không.\n",
        "Gợi ý: Đối với lũy thừa của 2, n & (n-1) == 0"
      ],
      "metadata": {
        "id": "CmnANYAK_eZw"
      }
    },
    {
      "cell_type": "code",
      "source": [
        "#Với các số thuộc n = 2^k (tức lũy thừa của 2) thì khi chuyển sang dạng nhị phân sẽ ở dạng rất đặc biệt ( do tính chất của hệ nhị phân là dạng của 2^k) là 100000....\n",
        "#Khi đó nếu lấy số n - 1 thì lại có dạng 0111111111111..11 do luôn dư 1 khi chia 2\n",
        "#khi ấy phép toán and (&) sẽ biến đổi chúng thành 000000000 -> số 0\n",
        "n = int(input(\"Nhập vào số nguyên n: \"))\n",
        "print(\"Yes\" if (n & (n-1) == 0) else \"No\")"
      ],
      "metadata": {
        "colab": {
          "base_uri": "https://localhost:8080/"
        },
        "id": "VY8iWC_U1jfo",
        "outputId": "a4bcb826-419c-4728-fd6a-51809dc84961"
      },
      "execution_count": null,
      "outputs": [
        {
          "output_type": "stream",
          "name": "stdout",
          "text": [
            "Nhập vào số nguyên n:  33554432\n",
            "Yes\n"
          ]
        }
      ]
    },
    {
      "cell_type": "markdown",
      "source": [
        "##**<font color = \"palered\">[Bài 4]</font>** Viết chương trình chia một số m cho n, kết quả thu được làm tròn xuống"
      ],
      "metadata": {
        "id": "dBL_GOHi_hfA"
      }
    },
    {
      "cell_type": "code",
      "source": [
        "import math\n",
        "m = float(input(\"Nhập vào số m: \"))\n",
        "n = float(input(\"Nhập vào số n: \"))\n",
        "print(f\"Kết quả phép chia {m} / {n} làm tròn xuống là: {math.floor(m/n)}\")"
      ],
      "metadata": {
        "colab": {
          "base_uri": "https://localhost:8080/"
        },
        "id": "FhZXUeUT9zp4",
        "outputId": "c07e2e55-85ca-43c8-f2a2-6c0c96684516"
      },
      "execution_count": null,
      "outputs": [
        {
          "output_type": "stream",
          "name": "stdout",
          "text": [
            "Nhập vào số m: 2323\n",
            "Nhập vào số n: 45\n",
            "Kết quả phép chia 2323.0 / 45.0 làm tròn xuống là: 51\n"
          ]
        }
      ]
    },
    {
      "cell_type": "markdown",
      "source": [
        "##**<font color = \"palered\">[Bài 5]</font>** Viết chương trình chia một số m cho n, kết quả thu được làm tròn  lên"
      ],
      "metadata": {
        "id": "D5LDHUjc_kxI"
      }
    },
    {
      "cell_type": "code",
      "source": [
        "import math\n",
        "m = float(input(\"Nhập vào số m: \"))\n",
        "n = float(input(\"Nhập vào số n: \"))\n",
        "print(f\"Kết quả phép chia {m} / {n} làm tròn lên là: {math.ceil(m/n)}\")"
      ],
      "metadata": {
        "colab": {
          "base_uri": "https://localhost:8080/"
        },
        "id": "Xc6RHK74DLue",
        "outputId": "f0a445e4-f987-4e27-a8b6-21ad037a6b02"
      },
      "execution_count": null,
      "outputs": [
        {
          "output_type": "stream",
          "name": "stdout",
          "text": [
            "Nhập vào số m: 2\n",
            "Nhập vào số n: 3\n",
            "Kết quả phép chia 2.0 / 3.0 làm tròn lên là: 1\n"
          ]
        }
      ]
    },
    {
      "cell_type": "markdown",
      "source": [
        "##**<font color = \"palered\">[Bài 6]</font>**  [Even and Odd]\n",
        "Nhập vào một số nguyên dương x, bạn hãy kiểm tra xem x là số chẵn hay lẻ. Nếu x là số chẵn, in ra\n",
        "\"Even\". Nếu x là số lẻ, in ra  \"Odd\"."
      ],
      "metadata": {
        "id": "579wtd2d_tpL"
      }
    },
    {
      "cell_type": "code",
      "source": [
        "user_input = int(input(\"Nhập vào số nguyên dương x:\"))\n",
        "if (user_input > 0):\n",
        "  print(\"Even\" if (user_input % 2 == 0) else \"Odd\")\n",
        "elif (user_input == 0):\n",
        "  print(\"Số 0 không phải nguyên dương\")\n",
        "else:\n",
        "  print(\"Vui lòng nhập số dương\")\n"
      ],
      "metadata": {
        "colab": {
          "base_uri": "https://localhost:8080/"
        },
        "id": "pE3lwxylDgMa",
        "outputId": "4a875e87-b7d9-46cc-9140-11e70a14d832"
      },
      "execution_count": null,
      "outputs": [
        {
          "output_type": "stream",
          "name": "stdout",
          "text": [
            "Nhập vào số nguyên dương x:201\n",
            "Odd\n"
          ]
        }
      ]
    },
    {
      "cell_type": "markdown",
      "source": [
        "##**<font color = \"palered\">[Bài 7]</font>** [Check negative numbers]\n",
        " Nhập vào hai số nguyên a, b. Nếu cả hai số a, b đều âm thì in ra \"Yes\", ngược lại in ra \"No\""
      ],
      "metadata": {
        "id": "hBge1Kga_web"
      }
    },
    {
      "cell_type": "code",
      "source": [
        "a = int(input(\"Nhập vào số nguyên a: \"))\n",
        "b = int(input(\"Nhập vào số nguyên b: \"))\n",
        "print(\"Yes\" if (a < 0 and b < 0) else \"No\")"
      ],
      "metadata": {
        "colab": {
          "base_uri": "https://localhost:8080/"
        },
        "id": "lRDYBYqKFPqL",
        "outputId": "9b4e6630-89bb-4d2e-d7e1-59ed470b513e"
      },
      "execution_count": null,
      "outputs": [
        {
          "output_type": "stream",
          "name": "stdout",
          "text": [
            "Nhập vào số nguyên a: 4\n",
            "Nhập vào số nguyên b: -1\n",
            "No\n"
          ]
        }
      ]
    },
    {
      "cell_type": "markdown",
      "source": [
        "##**<font color = \"palered\">[Bài 8]</font>** [Longer string]\n",
        "Nhập vào hai chuỗi a, b gồm các chữ cái thường. In ra \"True\" nếu chuỗi a dài hơn chuỗi b. Ngược\n",
        "lại in ra \"False\"."
      ],
      "metadata": {
        "id": "lHsMsAyE_0NY"
      }
    },
    {
      "cell_type": "code",
      "source": [
        "str_a = input(\"Nhập vào chuỗi a: \")\n",
        "str_b = input(\"Nhập vào chuỗi b: \")\n",
        "print(\"True\" if (len(str_a) > len(str_b)) else \"False\")"
      ],
      "metadata": {
        "colab": {
          "base_uri": "https://localhost:8080/"
        },
        "id": "HJNiF-tOFrek",
        "outputId": "28f0a874-84d1-4fa6-bcd8-374b0774850a"
      },
      "execution_count": null,
      "outputs": [
        {
          "output_type": "stream",
          "name": "stdout",
          "text": [
            "Nhập vào chuỗi a: 239802390\n",
            "Nhập vào chuỗi b: 39203920392038\n",
            "False\n"
          ]
        }
      ]
    },
    {
      "cell_type": "markdown",
      "source": [
        "##**<font color = \"palered\">[Bài 9]</font>** [Triangle]\n",
        "Nhập vào 3 số nguyên dương a, b, c. Kiểm tra xem a, b, c có cấu thành độ dài cạnh của 1 tam giác\n",
        "được không. Nếu a, b, c cấu tạo thành được một tam giác, in ra \"Yes\". Ngược lại in ra \"No\""
      ],
      "metadata": {
        "id": "MWZdrGVOGX9Q"
      }
    },
    {
      "cell_type": "code",
      "source": [
        "#Ý tưởng: chứng minh với 3 số a, b, c nếu tìm được số lớn nhất trong 3 số thì có thể xét tam giác đơn giản\n",
        "#Chứng minh: cho 3 số dương a, b, c bất kì. nếu max(a,b,c) < sum(2 số còn lại) thì đó là tam giác\n",
        "#Giải thích: TH1: a != b != c => giả sử c là max() thì c > a, b. Và đồng thời giả sử điều kiện max < sum là đúng thì c < a + b. Từ đó các bđt sau luôn đúng c + a > b và c + b > a\n",
        "#            TH2: a = b = c => ta có đẳng thức 2x > x với x = a, b, c luôn đúng do đó nó là 1 tam giác\n",
        "#            TH3: 2/3 số đo bằng nhau\n",
        "#                Th3.1: a = b và max = c => nếu max < sum thì c > 2a  do đó. c + a > a hay c + a > b tương tự với c + b\n",
        "#                Th3.2: b = c và max = c = b => nếu vậy chắc chắn sum > max vì (x + a > x) do đó luôn là 1 tam giác\n",
        "# -> hết trường hợp tồn tại\n",
        "#====> Tóm lại chỉ cần thỏa mãn điều kiện cần max < sum thì sẽ thỏa mãn điều kiện còn lại -> là tam giác\n",
        "\n",
        "def find_max(a, b, c): #Hàm tìm max / Thay thế cho hàm max() có sẵn -> lí do: tự tìm đường cho mình đi để nâng cao năng lực xử lí\n",
        "  max_temp = a\n",
        "  for item in (a,b,c):\n",
        "    max_temp = item if (item > max_temp) else max_temp\n",
        "  return max_temp\n",
        "def calculate_sum(a,b,c): #Hàm tính tổng\n",
        "  total = 0\n",
        "  for item in (a,b,c):\n",
        "    total += item\n",
        "  return total\n",
        "def is_triangle(a, b, c): #Hàm kiểm tra tam giác\n",
        "  return \"Yes\" if (calculate_sum(a,b,c)- find_max(a,b,c) > find_max(a,b,c)) else \"NO\"\n",
        "\n",
        "a = int(input(\"Nhập vào số nguyên dương a: \"))\n",
        "b = int(input(\"Nhập vào số nguyên dương b: \"))\n",
        "c = int(input(\"Nhập vào số nguyên dương c: \"))\n",
        "print(is_triangle(a,b,c) if (a * b * c > 0) else \"Vui lòng nhập số nguyên dương\")\n"
      ],
      "metadata": {
        "colab": {
          "base_uri": "https://localhost:8080/"
        },
        "id": "4MQdIwJnGp7_",
        "outputId": "5aee82be-9e72-45f1-d275-840624d8fb03"
      },
      "execution_count": 109,
      "outputs": [
        {
          "output_type": "stream",
          "name": "stdout",
          "text": [
            "Nhập vào số nguyên dương a: 3\n",
            "Nhập vào số nguyên dương b: 4\n",
            "Nhập vào số nguyên dương c: 5\n",
            "Yes\n"
          ]
        }
      ]
    },
    {
      "cell_type": "markdown",
      "source": [
        "##**<font color = \"palered\">[Bài 10]</font>** [Largest number]\n",
        " Nhập vào 4 số nguyên. In ra màn hình số nguyên lớn nhất trong 4 số"
      ],
      "metadata": {
        "id": "CV6GiowQWb8S"
      }
    },
    {
      "cell_type": "code",
      "source": [
        "a = int(input(\"Nhập vào số nguyên thứ 1: \"))\n",
        "b = int(input(\"Nhập vào số nguyên thứ 2: \"))\n",
        "c = int(input(\"Nhập vào số nguyên thứ 3: \"))\n",
        "d = int(input(\"Nhập vào số nguyên thứ 4: \"))\n",
        "max_temp = a\n",
        "for i in (a, b, c, d):\n",
        "  max_temp = i if( i >= a ) else max_temp\n",
        "print(f\"Số nguyên lớn nhất là: {max_temp}\")\n"
      ],
      "metadata": {
        "colab": {
          "base_uri": "https://localhost:8080/"
        },
        "id": "7d4zbotsXyyu",
        "outputId": "01391a85-84ff-4a25-e400-0808d328b4d8"
      },
      "execution_count": null,
      "outputs": [
        {
          "output_type": "stream",
          "name": "stdout",
          "text": [
            "Nhập vào số nguyên thứ 1: 31398\n",
            "Nhập vào số nguyên thứ 2: 3902\n",
            "Nhập vào số nguyên thứ 3: 209\n",
            "Nhập vào số nguyên thứ 4: 209320\n",
            "Số nguyên lớn nhất là: 209320\n"
          ]
        }
      ]
    },
    {
      "cell_type": "markdown",
      "source": [
        "##**<font color = \"palered\">[Bài 11]</font>** [Phân loại tam giác]\n",
        "Nhập vào 3 số nguyên dương a,b,c là độ dài 3 cạnh của một tam giác.<br>\n",
        "Kiểm tra 3 số đã nhập có tạo thành một tam giác hợp lệ hay không.\n",
        "<br>\n",
        "Nếu không in ra \"Không phải tam giác\".\n",
        "<br>\n",
        "Nếu có, phân loại tam giác đó là\n",
        "\"Tam giác đều\", \"Tam giác cân\", hay \"Tam giác thường\""
      ],
      "metadata": {
        "id": "XcVTA-ypWhRi"
      }
    },
    {
      "cell_type": "code",
      "source": [
        "#Ý tưởng: chứng minh với 3 số a, b, c nếu tìm được số lớn nhất trong 3 số thì có thể xét tam giác đơn giản\n",
        "#Chứng minh: cho 3 số dương a, b, c bất kì. nếu max(a,b,c) < sum(2 số còn lại) thì đó là tam giác\n",
        "#Giải thích: TH1: a != b != c => giả sử c là max() thì c > a, b. Và đồng thời giả sử điều kiện max < sum là đúng thì c < a + b. Từ đó các bđt sau luôn đúng c + a > b và c + b > a\n",
        "#            TH2: a = b = c => ta có đẳng thức 2x > x với x = a, b, c luôn đúng do đó nó là 1 tam giác\n",
        "#            TH3: 2/3 số đo bằng nhau\n",
        "#                Th3.1: a = b và max = c => nếu max < sum thì c > 2a  do đó. c + a > a hay c + a > b tương tự với c + b\n",
        "#                Th3.2: b = c và max = c = b => nếu vậy chắc chắn sum > max vì (x + a > x) do đó luôn là 1 tam giác\n",
        "#            Khi một trong 3 số a, b, c bằng 0 thì Max (a, b, c) sẽ luôn luôn lớn hơn tổng 2 số còn lại -> kiểm tra điều kiện cạnh bằng 0 có thể suy ra từ điều kiện sum > max\n",
        "# -> hết trường hợp tồn tại\n",
        "#====> Tóm lại chỉ cần thỏa mãn điều kiện cần max < sum thì sẽ thỏa mãn điều kiện còn lại -> là tam giác\n",
        "# Từ đó ta có bất đẳng thức rút gọn sum(a,b,c)) > 2max(a,b,c)\n",
        "def find_max(a, b, c): #Hàm tìm max / Thay thế cho hàm max() có sẵn -> lí do: tự tìm đường cho mình đi để nâng cao năng lực xử lí\n",
        "  max_temp = a\n",
        "  for item in (a,b,c):\n",
        "    max_temp = item if (item > max_temp) else max_temp\n",
        "  return max_temp\n",
        "def calculate_sum(a,b,c): #Hàm tính tổng\n",
        "  total = 0\n",
        "  for item in (a,b,c):\n",
        "    total += item\n",
        "  return total\n",
        "def is_triangle_check(a,b,c):\n",
        "  if (a < 0 or b < 0 or c < 0):\n",
        "    print(\"Số đo phải là số dương\")\n",
        "    return False\n",
        "  return True if (calculate_sum(a,b,c) > 2 * find_max(a,b,c)) else False\n",
        "def form_triangle_check(a,b,c):\n",
        "  return \"Tam giác đều\" if (a == b == c) else \"Tam giác cân\" if (a == b or a == c or b == c) else \"Tam giác thường\"\n",
        "\n",
        "a = int(input(\"Nhập vào số nguyên dương a: \"))\n",
        "b = int(input(\"Nhập vào số nguyên dương b: \"))\n",
        "c = int(input(\"Nhập vào số nguyên dương c: \"))\n",
        "\n",
        "print(f\"Đây là {form_triangle_check(a,b,c)}\" if (is_triangle_check(a,b,c)) else \"Không phải tam giác\")\n"
      ],
      "metadata": {
        "colab": {
          "base_uri": "https://localhost:8080/"
        },
        "id": "i7Ikg62cXStm",
        "outputId": "b68e65d8-9ed1-42a6-e826-5a112aa56c3a"
      },
      "execution_count": null,
      "outputs": [
        {
          "output_type": "stream",
          "name": "stdout",
          "text": [
            "Nhập vào số nguyên dương a: -2\n",
            "Nhập vào số nguyên dương b: 3\n",
            "Nhập vào số nguyên dương c: 2\n",
            "Số đo phải là số dương\n",
            "Không phải tam giác\n"
          ]
        }
      ]
    },
    {
      "cell_type": "markdown",
      "source": [
        "##**<font color = \"palered\">[Bài 12]</font>** [Kiểm tra năm nhuận]\n",
        " Nhập vào một số nguyên dương n là số năm, kiểm tra xem năm đó có phải là năm nhuận hay không. Năm\n",
        "nhuận là năm chia hết cho 4 nhưng không chia hết cho 100, hoặc chia hết cho 400. Nếu là năm nhuận in ra\n",
        "\"Yes\", nếu không in ra \"No\""
      ],
      "metadata": {
        "id": "8u26F2gvWkLm"
      }
    },
    {
      "cell_type": "code",
      "source": [
        "n = int(input(\"Nhập vào số nguyên dương n: \"))\n",
        "print(\"Yes\" if  ((n % 400 == 0) or (n % 4 == 0 and n % 100 != 0)) else \"No\")"
      ],
      "metadata": {
        "colab": {
          "base_uri": "https://localhost:8080/"
        },
        "id": "9A9m0ad8ir2c",
        "outputId": "49801b2b-a699-4322-9c82-fa4cdbd69450"
      },
      "execution_count": null,
      "outputs": [
        {
          "output_type": "stream",
          "name": "stdout",
          "text": [
            "Nhập vào số nguyên dương n: 2000\n",
            "Yes\n"
          ]
        }
      ]
    },
    {
      "cell_type": "markdown",
      "source": [
        "##**<font color = \"palered\">[Bài 13]</font>** [Tính tiền điện]\n",
        " Nhập vào số kWh điện tiêu thụ.\n",
        " Tính tiền điện theo các bậc sau:\n",
        " - 0-50 kWh: 1500đ/kWh\n",
        " - 51-100 kWh: 2000đ/kWh\n",
        " - 100 kWh: 3000đ/kWh"
      ],
      "metadata": {
        "id": "DwV7fv0FWmQC"
      }
    },
    {
      "cell_type": "code",
      "source": [
        "comsume_kwh = int(input(\"Nhập vào số kwh điện tiêu thụ: \"))\n",
        "total = comsume_kwh * 1_500 if (comsume_kwh <= 50) else ((comsume_kwh -50) * 2_000 + 50 * 1_500  ) if (comsume_kwh <= 100) else (comsume_kwh - 100) * 3_000 + 50 * 2_000 + 50 * 1_500\n",
        "print(f\"Tổng tiền điện thiêu thụ là: {total}đ\")"
      ],
      "metadata": {
        "colab": {
          "base_uri": "https://localhost:8080/"
        },
        "id": "hbzHQQcVjRD0",
        "outputId": "01f3cae3-8874-464b-e58a-8f78558f2534"
      },
      "execution_count": null,
      "outputs": [
        {
          "output_type": "stream",
          "name": "stdout",
          "text": [
            "Nhập vào số kwh điện tiêu thụ: 0\n",
            "Tổng tiền điện thiêu thụ là: 0đ\n"
          ]
        }
      ]
    },
    {
      "cell_type": "markdown",
      "source": [
        "##**<font color = \"palered\">[Bài 14]</font>** [Giải phương trình bậc nhất]\n",
        "Nhập vào hai số thực a và b của phương trình ax + b = 0. Tìm và in ra nghiệm của phương trình, kết quả\n",
        "làm tròn đến số thập phân thứ 2. In ra \"Vô nghiệm\" hoặc \"Vô số nghiệm\" trong trường hợp tương ứng"
      ],
      "metadata": {
        "id": "7L6jGmWHWoXi"
      }
    },
    {
      "cell_type": "code",
      "source": [
        "print(\"Giải phương trình bậc nhất ax + b = 0\")\n",
        "a = float(input(\"Nhập vào số thực a: \"))\n",
        "b = float(input(\"Nhập vào số thực b: \"))\n",
        "print(\"Vô nghiệm\" if (a == 0 and b != 0) else \"Vô số nghiệm\" if (a == b == 0) else f\"Nghiệm của phường trình là {(-b / a):.2f}\")"
      ],
      "metadata": {
        "colab": {
          "base_uri": "https://localhost:8080/"
        },
        "id": "ETMgrHXKlphB",
        "outputId": "f232328e-da28-4b0a-b4c2-0d677793d587"
      },
      "execution_count": null,
      "outputs": [
        {
          "output_type": "stream",
          "name": "stdout",
          "text": [
            "Giải phương trình bậc nhất ax + b = 0\n",
            "Nhập vào số thực a: 0.23\n",
            "Nhập vào số thực b: 99.1\n",
            "Nghiệm của phường trình là -430.87\n"
          ]
        }
      ]
    },
    {
      "cell_type": "markdown",
      "source": [
        "##**<font color = \"palered\">[Bài 15]</font>** [Xếp loại học lực]\n",
        " Nhập vào điểm trung bình của một học sinh và in ra học lực của học sinh đó. Xếp loại học lực theo quy tắc:\n",
        " - `>= 8.0: Giỏi\n",
        " - `>= 6.5: Khá\n",
        " - `>= 5.0: Trung bình\n",
        " - `< 5.0: Yếu"
      ],
      "metadata": {
        "id": "2dkvhW76Wqbl"
      }
    },
    {
      "cell_type": "code",
      "source": [
        "score = float(input(\"Nhập điểm trung bình: \"))\n",
        "print(\"Giỏi\" if (score >= 8.0) else \"Khá\" if (score >= 6.5) else \"Trung bình\" if (score >= 5.0) else \"Yếu\")"
      ],
      "metadata": {
        "colab": {
          "base_uri": "https://localhost:8080/"
        },
        "id": "GAA0N0oKnaD6",
        "outputId": "b8a70da0-9a23-4f0b-c1c4-8566e6e6298b"
      },
      "execution_count": null,
      "outputs": [
        {
          "output_type": "stream",
          "name": "stdout",
          "text": [
            "Nhập điểm trung bình: 6\n",
            "Trung bình\n"
          ]
        }
      ]
    },
    {
      "cell_type": "markdown",
      "source": [
        "##**<font color = \"palered\">[Bài 16]</font>** [Rounding]\n",
        " Nhập vào một số thực: in ra kết quả làm tròn lên ,tròn xuống, làm tròn tới số nguyên gần nhất (không được\n",
        "sử dụng hàm sẵn có của python). Các kết quả cách nhau một dấu cách"
      ],
      "metadata": {
        "id": "_EmBM639Wsra"
      }
    },
    {
      "cell_type": "code",
      "source": [
        "f = float(input(\"Nhập vào số thực: \"))\n",
        "def round_near(a):\n",
        "  if (a > 0):\n",
        "    last_digit = (a * 10) % 10\n",
        "    return ( a // 1 if (last_digit < 5) else ((a // 1 )+ 1))\n",
        "  elif(a < 0):\n",
        "    last_digit = (a * 10 * (-1)) % 10\n",
        "    return ( a // 1 if (last_digit < 5) else ((a // 1)))\n",
        "  else:\n",
        "    return 0\n",
        "\n",
        "print(f\"Kết quả: Số làm tròn lên {(f//1) + 1}, số làm tròn xuống {( f // 1 )} và số làm tròn gần: {round_near(f)}\")"
      ],
      "metadata": {
        "colab": {
          "base_uri": "https://localhost:8080/"
        },
        "id": "z9awmNjLoqvZ",
        "outputId": "b7a6e63d-c8ce-43fd-89d1-a0ed9b4b9a78"
      },
      "execution_count": null,
      "outputs": [
        {
          "output_type": "stream",
          "name": "stdout",
          "text": [
            "Nhập vào số thực: 0\n",
            "Kết quả: Số làm tròn lên 1.0, số làm tròn xuống 0.0 và số làm tròn gần: 0\n"
          ]
        }
      ]
    }
  ]
}