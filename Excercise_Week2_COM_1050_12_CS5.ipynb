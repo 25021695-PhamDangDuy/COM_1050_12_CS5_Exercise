{
  "nbformat": 4,
  "nbformat_minor": 0,
  "metadata": {
    "colab": {
      "provenance": [],
      "authorship_tag": "ABX9TyPA+xdbt+TXURXMqiqsabMx",
      "include_colab_link": true
    },
    "kernelspec": {
      "name": "python3",
      "display_name": "Python 3"
    },
    "language_info": {
      "name": "python"
    }
  },
  "cells": [
    {
      "cell_type": "markdown",
      "metadata": {
        "id": "view-in-github",
        "colab_type": "text"
      },
      "source": [
        "<a href=\"https://colab.research.google.com/github/25021695-PhamDangDuy/COM_1050_12_CS5_Exercise/blob/main/Excercise_Week2_COM_1050_12_CS5.ipynb\" target=\"_parent\"><img src=\"https://colab.research.google.com/assets/colab-badge.svg\" alt=\"Open In Colab\"/></a>"
      ]
    },
    {
      "cell_type": "markdown",
      "source": [
        "# **<font color =\"palered\">Bài Tập Week2 - Tuần 2 của (25021695-Phạm Đăng Duy)</font>**\n",
        "> Link:(https://portal.uet.vnu.edu.vn/courses/3555/files/795356/download?download_frd=1)"
      ],
      "metadata": {
        "id": "cyktEXZX12O8"
      }
    },
    {
      "cell_type": "markdown",
      "metadata": {
        "id": "43344ef1"
      },
      "source": [
        "## **<font color = \"palered\">[Bài 1]</font>** Nhập vào số nguyên n, in ra màn hình số gấp đôi của n"
      ]
    },
    {
      "cell_type": "code",
      "source": [
        "numer_input = int(input(\"nhập vào số nguyên n: \"))\n",
        "print(f\"Số gấp đôi của {numer_input} là : {numer_input * 2}\")"
      ],
      "metadata": {
        "colab": {
          "base_uri": "https://localhost:8080/"
        },
        "id": "1Fu0VIOr3h0u",
        "outputId": "4279c5fe-b36a-46d8-fe84-3ed340c0f503"
      },
      "execution_count": null,
      "outputs": [
        {
          "output_type": "stream",
          "name": "stdout",
          "text": [
            "nhập vào số nguyên n: 2\n",
            "Số gấp đôi của 2 là : 4\n"
          ]
        }
      ]
    },
    {
      "cell_type": "markdown",
      "metadata": {
        "id": "2af97a55"
      },
      "source": [
        "## **<font color = \"palered\">[Bài 2]</font>** Một khu đất hình chữ nhật có chiều rộng a, chiều dài b. Người ra xây một khu vui chơi hình tròn tại vị trí trung tâm khu đất như hình vẽ. Nhập vào a, b. Hãy tính phần diện tích còn để trồng cây xung quanh là bao nhiêu. Biết pi = 3.14, lấy kết quả đến 2 chữ số phần thập phân."
      ]
    },
    {
      "cell_type": "code",
      "source": [
        "a = float(input(\"Nhập chiều rộng: \"))\n",
        "b = float(input(\"Nhập chiều dài: \"))\n",
        "pi = 3.14\n",
        "if (a <= 0 or b <= 0):\n",
        "    print(\"Vui lòng nhập số dương\")\n",
        "    exit()\n",
        "else:\n",
        "  if (a > b):\n",
        "    print(\"Chiều rộng phải nhỏ hơn\")\n",
        "  else:\n",
        "    s_square = a * b\n",
        "    s_circle = pi * ((a / 2) ** 2)\n",
        "    print(f\"Diện tích còn lại để trồng cây là: {s_square - s_circle:.2f}\")\n"
      ],
      "metadata": {
        "colab": {
          "base_uri": "https://localhost:8080/"
        },
        "id": "kiiNkPzF3lka",
        "outputId": "0f2e08f7-a069-434a-9873-98a2d465da4b"
      },
      "execution_count": 8,
      "outputs": [
        {
          "output_type": "stream",
          "name": "stdout",
          "text": [
            "Nhập chiều rộng: 3\n",
            "Nhập chiều dài: 5\n",
            "Diện tích còn lại để trồng cây là: 7.93\n"
          ]
        }
      ]
    },
    {
      "cell_type": "markdown",
      "metadata": {
        "id": "5db6eea0"
      },
      "source": [
        "## **<font color = \"palered\">[Bài 3]</font>** Viết chương trình nhập vào một “kí tự” c, nếu nó là chữ hoa thì in ra chữ thường tương ứng và ngược lại nếu nó là chữ thường thì in ra chữ hoa tương ứng của nó. (xem trước cấu trúc lựa chọn: if….else, ma)"
      ]
    },
    {
      "cell_type": "code",
      "source": [
        "#cách 1: sử dụng hàm upper() và lower()\n",
        "print(\"Cách 1\")\n",
        "user_input = input(\"Nhập vào chữ cái: \") #Nhập dữ liệu từ bàn phím\n",
        "if (len(user_input) != 1):\n",
        "    print(\"Chỉ được nhập đúng 1 kí tự\")\n",
        "    exit()\n",
        "if (ord(user_input) == ord(user_input.upper()) and ord(user_input) == ord(user_input.lower())):#nguyên lí: nếu 1 kí tự đã viết hoa thì mã Unicode của nó sẽ bằng mã Unicode ở dạng in hoa.\n",
        "    print(\"Không phải chữ cái\")\n",
        "elif (ord(user_input) == ord(user_input.upper())):\n",
        "    print(f\"Chữ {user_input} là chữ hoa - chữ thường của nó là {user_input.lower()} \")\n",
        "else:\n",
        "    print(f\"Chữ {user_input} là chữ thường - chữ hoa của nó là {user_input.upper()} \")\n",
        "\n",
        "#nhược điểm: chỉ xét được trong bảng latin và 1 số ngôn ngữ hệ quả của latin\n"
      ],
      "metadata": {
        "colab": {
          "base_uri": "https://localhost:8080/"
        },
        "id": "CoQRTORk3oBa",
        "outputId": "2e3f8dd7-bfa3-47bc-d9c9-956fa092250d"
      },
      "execution_count": 9,
      "outputs": [
        {
          "output_type": "stream",
          "name": "stdout",
          "text": [
            "Cách 1\n",
            "Nhập vào chữ cái: L\n",
            "Chữ L là chữ hoa - chữ thường của nó là l \n"
          ]
        }
      ]
    },
    {
      "cell_type": "code",
      "source": [
        "#cách 2: tính chay\n",
        "print(\"Cách 2\")\n",
        "user_input = input(\"Nhập vào chữ cái: \") #Gán lại giá trị biến user_input\n",
        "if (len(user_input) != 1):\n",
        "    print(\"Chỉ được nhập đúng 1 kí tự\")\n",
        "    exit()\n",
        "if ( (ord(user_input) >= ord(\"a\"))  and  (ord(user_input) <= ord(\"z\")) ):   #nguyên lí: trong bảng Unicode mã code của a -> z , A -> z, 0 -> 9 là tăng dần 1 đơn vị\n",
        "    distant = ord(user_input) - ord(\"a\")      #đo xem vị trí của kí tự nhập và so với dãy thực, từ đó suy ra vị trí của kí tự đó so với dãy ánh xạ(in hoa --> thường / in thường -> in hoa)\n",
        "    upper_user_input = chr( ord(\"A\") + distant )\n",
        "    print(f\"chữ {user_input} là chữ in thường - chữ cái in hoa của nó là {upper_user_input} \")\n",
        "elif ( (ord(user_input) >= ord(\"A\")) and (ord(user_input) <= ord(\"Z\")) ):\n",
        "    distant = ord(user_input) - ord(\"A\")\n",
        "    lower_user_input = chr( ord(\"a\") + distant )\n",
        "    print(f\"chữ {user_input} là chữ in hoa - chữ cái in thường là {lower_user_input}\")\n",
        "else:\n",
        "    print(\"Hãy nhập chữ cái latin\")\n",
        "#nhược điểm: các chữ cái ngoài dãy a->z A->Z là lỗi\n"
      ],
      "metadata": {
        "colab": {
          "base_uri": "https://localhost:8080/"
        },
        "id": "5PAQX2wv-RDF",
        "outputId": "57fd01af-c400-438a-9e17-9cf9c49c1ad2"
      },
      "execution_count": 10,
      "outputs": [
        {
          "output_type": "stream",
          "name": "stdout",
          "text": [
            "Cách 2\n",
            "Nhập vào chữ cái: M\n",
            "chữ M là chữ in hoa - chữ cái in thường là m\n"
          ]
        }
      ]
    },
    {
      "cell_type": "code",
      "source": [
        "#Cách 3: Kết hợp 2 cách\n",
        "print(\"Cách 3\")\n",
        "user_input = input(\"Nhập vào chữ cái: \")\n",
        "unicode_user_input = ord(user_input)\n",
        "if (len(user_input) != 1):\n",
        "    print(\"Chỉ được nhập đúng 1 kí tự\")\n",
        "    exit()\n",
        "if ((unicode_user_input >= ord(\"a\")) and (unicode_user_input <= ord(\"z\"))):     #kiểm tra giống cách 2 theo nguyên lí - vì cách 2 toàn diện và có thể kiểm tra các kí tụ ngoài vùng làm việc (chữ hán, trung, ..v.v)\n",
        "    print(f\"Đây {user_input} là chữ in thường - chữ in hoa của nó là {user_input.upper()}\")  #cách đổi sang bảng ánh xạ giống nguyên lí 1 - vì đơn giản là nó gọn nhưng nhanh thì k biết. vì còn phụ thuộc vào độ phức tạp của hàm upper()\n",
        "elif ( (unicode_user_input >= ord(\"A\")) and (unicode_user_input <= ord(\"Z\")) ):\n",
        "    print(f\"{user_input} là chữ in hoa - chữ in thường của nó là {user_input.lower()}\")\n",
        "elif ( (unicode_user_input >= ord(\"0\")) and (unicode_user_input <= ord(\"9\"))):\n",
        "    print(f\"{user_input} là số, không phải chữ cái\")\n",
        "else :\n",
        "    print(f\"Đây là kí hiệu không phải chữ cái {user_input}\")"
      ],
      "metadata": {
        "colab": {
          "base_uri": "https://localhost:8080/"
        },
        "id": "SiQIEQXM-TFg",
        "outputId": "c7a13a82-901c-47f9-b29f-f1c5221e8974"
      },
      "execution_count": 11,
      "outputs": [
        {
          "output_type": "stream",
          "name": "stdout",
          "text": [
            "Cách 3\n",
            "Nhập vào chữ cái: @\n",
            "Đây là kí hiệu không phải chữ cái @\n"
          ]
        }
      ]
    },
    {
      "cell_type": "code",
      "source": [
        "#Hướng 4: dùng hàm islower/isupper\n",
        "print(\"Cách 4\")\n",
        "user_input = input(\"Nhập kí tự: \")\n",
        "if (len(user_input) != 1):\n",
        "    print(\"vui lòng nhập đúng 1 kí tự\")\n",
        "    exit()\n",
        "if (user_input.islower()):\n",
        "    print(f\"{user_input} là chữ in thường - chữ in hoa là {user_input.upper()} \\n\")\n",
        "elif (user_input.isupper()):\n",
        "    print(f\"{user_input} là chữ in hoa - chữ in thường là {user_input.lower()} \\n\")\n",
        "elif (user_input.isdigit()):\n",
        "    print(f\"{user_input} là chữ số \\n\")\n",
        "else:\n",
        "    print(\"không phải chữ cái \\n\")\n",
        "#Vấn đề tiếp : nhập quá 2 kí tự thì program sẽ lỗi + và còn chữ cái của tiếng việt ư ắ"
      ],
      "metadata": {
        "colab": {
          "base_uri": "https://localhost:8080/"
        },
        "id": "_dKy48gS-VY0",
        "outputId": "e2092173-706c-401c-d795-0e49d7b4927d"
      },
      "execution_count": 13,
      "outputs": [
        {
          "output_type": "stream",
          "name": "stdout",
          "text": [
            "Cách 4\n",
            "Nhập kí tự: 3\n",
            "3 là chữ số \n",
            "\n"
          ]
        }
      ]
    },
    {
      "cell_type": "markdown",
      "metadata": {
        "id": "b3d3ce07"
      },
      "source": [
        "## **<font color = \"palered\">[Bài 4]</font>** Viết chương trình nhập vào một “kí tự”, Kiểm tra xem c có phải là kí tự chữ cái không (hoa hoặc thường). Nếu đúng thì in ra “{c} là kí tu alphabet”, nếu sai in ra “{c} không phải là kí tự alphabet."
      ]
    },
    {
      "cell_type": "code",
      "source": [
        "#Cách 1: tính chay\n",
        "print(\"Cách 1\")\n",
        "user_input = input(\"Nhập vào kí tự cần kiểm tra: \")\n",
        "if (len(user_input) != 1):\n",
        "    print(\"vui lòng nhập đúng 1 kí tự\")\n",
        "    exit()\n",
        "if (  (user_input != user_input.upper()) or (user_input != user_input.lower()) ):   #Nguyên lí: nếu kí tự nhập vào là 1 chữ cái thì sẽ có dạng in hoa - in thường và ngược lại nếu đó là số / kí hiệu thì chỉ có 1 dạng duy nhất\n",
        "    print(f\"{user_input} là chữ cái alphabet\")\n",
        "else:\n",
        "    print(f\"{user_input} không phải chữ cái alphabet\")"
      ],
      "metadata": {
        "colab": {
          "base_uri": "https://localhost:8080/"
        },
        "id": "8Vwnfmh23qkG",
        "outputId": "b91f0519-6d35-4309-df60-a936af732a85"
      },
      "execution_count": 15,
      "outputs": [
        {
          "output_type": "stream",
          "name": "stdout",
          "text": [
            "Cách 1\n",
            "Nhập vào kí tự cần kiểm tra: K\n",
            "K là chữ cái alphabet\n"
          ]
        }
      ]
    },
    {
      "cell_type": "code",
      "source": [
        "#Cách 2: dùng hàm isalpha()\n",
        "print(\"Cách 2\")\n",
        "user_input = input(\"Nhập vào kí tự cần kiểm tra: \")\n",
        "if (len(user_input) != 1):\n",
        "    print(\"Không phải 1 kí tự\")\n",
        "    exit()\n",
        "if user_input.isalpha():\n",
        "    print(f\"{user_input} là chữ cái alphabet\")\n",
        "else:\n",
        "    print(\"Không phải chữ cái alphabet\")"
      ],
      "metadata": {
        "colab": {
          "base_uri": "https://localhost:8080/"
        },
        "id": "ugnl30OL-o7g",
        "outputId": "8cd858dc-00ca-4535-ad47-ec31b22d359c"
      },
      "execution_count": 14,
      "outputs": [
        {
          "output_type": "stream",
          "name": "stdout",
          "text": [
            "Cách 2\n",
            "Nhập vào kí tự cần kiểm tra: #\n",
            "Không phải chữ cái alphabet\n"
          ]
        }
      ]
    },
    {
      "cell_type": "markdown",
      "metadata": {
        "id": "6bb46ba1"
      },
      "source": [
        "## **<font color = \"palered\">[Bài 5]</font>** Nhập vào chữ cái hoa A, in ra chữ cái thường liền trước chữ cái a thường tương ứng của A. Xét TH khi c = ‘A’ là đặc biệt."
      ]
    },
    {
      "cell_type": "code",
      "source": [
        "import sys\n",
        "user_input = input(\"Nhập vào chữ cái: \")\n",
        "def check_length(char):\n",
        "    if len(char) != 1:\n",
        "        print(\"vui lòng nhập đúng 1 kí tự\")\n",
        "        sys.exit()\n",
        "check_length(user_input)\n",
        "\n",
        "def change_char(input_function):\n",
        "    print(f\"Chữ liền trước 1 đơn vị là {chr(ord(input_function) - 1).lower()}\")\n",
        "\n",
        "if user_input.isalpha():\n",
        "    if user_input.islower():\n",
        "        print(\"Đây là chữ in thường\")\n",
        "    elif user_input == \"A\":\n",
        "        print(\"không có chữ liền trước\")\n",
        "    else:\n",
        "        change_char(user_input)\n",
        "elif user_input.isdigit():\n",
        "    print(\"Là chữ số!\")\n",
        "else:\n",
        "    print(f\"{user_input} không phải chữ cái\")"
      ],
      "metadata": {
        "colab": {
          "base_uri": "https://localhost:8080/"
        },
        "id": "y_2o6MlD3uDT",
        "outputId": "e9e55065-593b-4214-bb54-431abf71dbea"
      },
      "execution_count": null,
      "outputs": [
        {
          "output_type": "stream",
          "name": "stdout",
          "text": [
            "Nhập vào chữ cái: B\n",
            "Chữ liền trước 1 đơn vị là a\n"
          ]
        }
      ]
    },
    {
      "cell_type": "markdown",
      "metadata": {
        "id": "29b17485"
      },
      "source": [
        "## **<font color = \"palered\">[Bài 6]</font>** Nhập vào 3 số a, b, c. Kiểm tra xem đây có phải là cạnh của 1 tam giác không. Nếu đúng thì tính diện tích của tam giác đó, in ra với 1 chữ số phần thập phân, nếu nó không phải 3 cạnh của tam giác thì in ra “Khong phai 3 canh cua tam giac”."
      ]
    },
    {
      "cell_type": "code",
      "source": [
        "#Ý tưởng: chứng minh với 3 số a, b, c nếu tìm được số lớn nhất trong 3 số thì có thể xét tam giác đơn giản\n",
        "#Chứng minh: cho 3 số dương a, b, c bất kì. nếu max(a,b,c) < sum(2 số còn lại) thì đó là tam giác\n",
        "#Giải thích: TH1: a != b != c => giả sử c là max() thì c > a, b. Và đồng thời giả sử điều kiện max < sum là đúng thì c < a + b. Từ đó các bđt sau luôn đúng c + a > b và c + b > a\n",
        "#            TH2: a = b = c => ta có đẳng thức 2x > x với x = a, b, c luôn đúng do đó nó là 1 tam giác\n",
        "#            TH3: 2/3 số đo bằng nhau\n",
        "#                Th3.1: a = b và max = c => nếu max < sum thì c > 2a  do đó. c + a > a hay c + a > b tương tự với c + b\n",
        "#                Th3.2: b = c và max = c = b => nếu vậy chắc chắn sum > max vì (x + a > x) do đó luôn là 1 tam giác\n",
        "# -> hết trường hợp tồn tại\n",
        "#====> Tóm lại chỉ cần thỏa mãn điều kiện cần max < sum thì sẽ thỏa mãn điều kiện còn lại -> là tam giác\n",
        "\n",
        "number_input = (input(\"Nhập vào 3 số dương bất kì để kiểm tra: \").split())\n",
        "\n",
        "def check_list(list_need_to_check):\n",
        "    if len(list_need_to_check) != 3:\n",
        "        print(\"vui lòng nhập đúng 3 số đo\")\n",
        "        exit()\n",
        "    for i in list_need_to_check:\n",
        "        try:\n",
        "            float(i)\n",
        "        except ValueError:\n",
        "            print(f\"{i} không phải là số\")\n",
        "            exit()\n",
        "\n",
        "        if (float(i) <= float(0)):\n",
        "            print(f\"{i} không phải số dương\")\n",
        "            exit()\n",
        "\n",
        "\n",
        "def check_triangle(first, second, third):\n",
        "    max_size = max(first, second, third)\n",
        "    sum_two_size_except_max = (first + second + third) - max_size\n",
        "    if (sum_two_size_except_max >= max_size):\n",
        "        print(\"Là tam giác\")\n",
        "    else:\n",
        "        print(\"Không là tam giác\")\n",
        "\n",
        "check_list(number_input)\n",
        "a, b, c = map(float, number_input)\n",
        "check_triangle(a, b, c)\n",
        "\n"
      ],
      "metadata": {
        "colab": {
          "base_uri": "https://localhost:8080/"
        },
        "id": "C-JkG-Bv3wZq",
        "outputId": "a8d2a058-a3ae-4766-9f88-e5bd599d231a"
      },
      "execution_count": null,
      "outputs": [
        {
          "output_type": "stream",
          "name": "stdout",
          "text": [
            "Nhập vào 3 số dương bất kì để kiểm tra: 3 4 5\n",
            "Là tam giác\n"
          ]
        }
      ]
    },
    {
      "cell_type": "markdown",
      "metadata": {
        "id": "6fa7dadd"
      },
      "source": [
        "## **<font color = \"palered\">[Bài 7]</font>**: Nhập vào một chuỗi gồm các kí tự thường độ dài >=20, in ra chữ cái thứ năm và thứ chín của chuỗi này"
      ]
    },
    {
      "cell_type": "code",
      "source": [
        "user_input = input(\"Nhập chuỗi bạn muốn: \")\n",
        "if (len(user_input) >= 20):\n",
        "    print(f\"kí tự thứ 5 là {user_input[4]}, kí tự thứ 9 là {user_input[8]}\")\n",
        "else:\n",
        "    print(\"chưa đủ 20 kí tự trở lên\")"
      ],
      "metadata": {
        "colab": {
          "base_uri": "https://localhost:8080/"
        },
        "id": "gWd1tnLs34iK",
        "outputId": "16aa7f12-2b95-4942-ff03-31f42b4f2097"
      },
      "execution_count": null,
      "outputs": [
        {
          "output_type": "stream",
          "name": "stdout",
          "text": [
            "Nhập chuỗi bạn muốn: phamdangduyngungungu\n",
            "kí tự thứ 5 là d, kí tự thứ 9 là d\n"
          ]
        }
      ]
    },
    {
      "cell_type": "markdown",
      "source": [
        "##**<font color = \"palered\">[Bài 8]</font>**: Nhập vào họ tên chủ hộ và chỉ số điện kế tháng trước và chỉ số điện kế tháng này,\n",
        "Tính tiền điện tháng này cho hộ biết:<br>\n",
        "Từ 0 - 50kWh: 1.984 đồng/kWh <br>\n",
        "Bậc 2: Từ 51 – 100 kWh: 2.050 đồng/kWh  <br>\n",
        "Bậc 3: Từ 101 – 200 kWh: 2.380 đồng/kWh  <br>\n",
        "Bậc 4: Từ 201 – 300 kWh: 2.998 đồng/kWh  <br>\n",
        "Bậc 5: Từ 301 – 400 kWh: 3.350 đồng/kWh  <br>\n",
        "Bậc 6: Từ 401 trở đi kWh: 3.460 đồng/kWh<br>\n",
        "Tính thêm tiền VAT 8%. Chỉ lấy đến đơn vị đồng"
      ],
      "metadata": {
        "id": "SKbI-mRH3FK_"
      }
    },
    {
      "cell_type": "code",
      "source": [
        "import sys\n",
        "general = [\n",
        "    { \"start\": 0, \"end\" : 50, \"cost\" : 1_984},\n",
        "    { \"start\": 50, \"end\" : 100, \"cost\" : 2_050},\n",
        "    { \"start\": 100, \"end\" : 200, \"cost\" : 2_380},\n",
        "    { \"start\": 200, \"end\" : 300, \"cost\" : 2_998},\n",
        "    { \"start\": 300, \"end\" : 400, \"cost\" : 3_350},\n",
        "    { \"start\": 400,\"end\" : float('inf') ,\"cost\" : 3_460}\n",
        "]\n",
        "\n",
        "def calculator_cost_electric(start, end):\n",
        "    consume_kwh = end - start\n",
        "    total = 0\n",
        "    if consume_kwh > 0:\n",
        "        for i in general:\n",
        "            if (consume_kwh >= i[\"start\"]):\n",
        "                distant = min(consume_kwh, i[\"end\"]) - (i[\"start\"] )\n",
        "                total += distant * i[\"cost\"]\n",
        "            else:\n",
        "                break\n",
        "        total *= 1.08\n",
        "    elif consume_kwh == 0:\n",
        "        total = 0\n",
        "    else:\n",
        "        print(\"Số đầu phải nhỏ hơn số cuối!\")\n",
        "        sys.exit()\n",
        "    return total\n",
        "\n",
        "user_name_input = input(\"Nhập tên chủ hộ: \")\n",
        "try:\n",
        "    user_input_number_start = float(input(\"Nhập số điện đầu tháng: \"))\n",
        "    user_input_number_end = float(input(\"Nhập số điện cuối tháng: \"))\n",
        "except ValueError:\n",
        "    print(\"Vui lòng nhập số!\")\n",
        "    sys.exit()\n",
        "\n",
        "print(f\"Họ và tên: {user_name_input} \\nSố tiền phải trả là: {calculator_cost_electric(user_input_number_start, user_input_number_end):.0f} VNĐ\")\n",
        "\n",
        "\n"
      ],
      "metadata": {
        "colab": {
          "base_uri": "https://localhost:8080/"
        },
        "id": "7aeWGf0F36_z",
        "outputId": "4eec8a4e-7bab-44f6-b446-e45d4363c911"
      },
      "execution_count": null,
      "outputs": [
        {
          "output_type": "stream",
          "name": "stdout",
          "text": [
            "Nhập tên chủ hộ: đỗ thùy linh\n",
            "Nhập số điện đầu tháng: 709\n",
            "Nhập số điện cuối tháng: 1501\n",
            "Họ và tên: đỗ thùy linh \n",
            "Số tiền phải trả là: 2625286 VNĐ\n"
          ]
        }
      ]
    },
    {
      "cell_type": "markdown",
      "metadata": {
        "id": "ab881f43"
      },
      "source": [
        "## **<font color = \"palered\">[Bài 9]</font>** Kiểm tra số chẵn lẻ: Viết chương trình nhập một số nguyên, kiểm tra và in ra số đó là số chẵn hay số lẻ."
      ]
    },
    {
      "cell_type": "code",
      "source": [
        "try:\n",
        "    user_input = int(input(\"Nhập vào số nguyên cần kiểm tra: \"))\n",
        "    if (user_input % 2 == 0) :\n",
        "        print(f\"{user_input} là số chẵn\")\n",
        "    else:\n",
        "        print(f\"{user_input} là số lẻ\")\n",
        "except ValueError:\n",
        "    print(\"chỉ được nhập số nguyên\")"
      ],
      "metadata": {
        "colab": {
          "base_uri": "https://localhost:8080/"
        },
        "id": "Fr57DGVs6pqn",
        "outputId": "69bd8dca-5e07-4d9c-c2d3-fbf1a3e72acd"
      },
      "execution_count": null,
      "outputs": [
        {
          "output_type": "stream",
          "name": "stdout",
          "text": [
            "Nhập vào số nguyên cần kiểm tra: 0\n",
            "0 là số chẵn\n"
          ]
        }
      ]
    },
    {
      "cell_type": "markdown",
      "metadata": {
        "id": "aad33c6d"
      },
      "source": [
        "## **<font color = \"palered\">[Bài 10]</font>** Kiểm tra số có tận cùng 5 không: Viết chương trình nhập một số nguyên, kiểm tra số đó có tận cùng 5 không, nếu đúng in ra “True”, nếu sai in ra “False”."
      ]
    },
    {
      "cell_type": "code",
      "source": [
        "try:\n",
        "    user_input = int(input(\"Nhập vào số nguyên cần kiểm tra: \"))\n",
        "    last_digit = user_input % 10\n",
        "    print((last_digit == 5))\n",
        "except ValueError:\n",
        "    print(\"Chỉ được nhập số nguyên!\")"
      ],
      "metadata": {
        "colab": {
          "base_uri": "https://localhost:8080/"
        },
        "id": "tv-qt8lt7cSe",
        "outputId": "146cf3f8-2ba5-44e7-9897-528b137ac179"
      },
      "execution_count": null,
      "outputs": [
        {
          "output_type": "stream",
          "name": "stdout",
          "text": [
            "Nhập vào số nguyên cần kiểm tra: 75\n",
            "True\n"
          ]
        }
      ]
    },
    {
      "cell_type": "markdown",
      "metadata": {
        "id": "c82d9ef8"
      },
      "source": [
        "## **<font color = \"palered\">[Bài 11]</font>** Kiểm tra số có chia hết cho 3 và 5 không: Viết chương trình nhập một số nguyên, kiểm tra số đó có chia hết cho 3 và 5 không, nếu đúng in ra “True”, nếu sai in ra “False”."
      ]
    },
    {
      "cell_type": "code",
      "source": [
        "try:\n",
        "    user_input = int(input(\"Nhập số nguyên cần kiểm tra: \"))\n",
        "    print((user_input % 3 == 0) and (user_input % 5 == 0))\n",
        "except ValueError:\n",
        "    print(\"chỉ được nhập số nguyên\")"
      ],
      "metadata": {
        "colab": {
          "base_uri": "https://localhost:8080/"
        },
        "id": "gPJnyajV6sMR",
        "outputId": "8fa77656-f25a-4bad-c72b-dc6da53a7f13"
      },
      "execution_count": null,
      "outputs": [
        {
          "output_type": "stream",
          "name": "stdout",
          "text": [
            "Nhập số nguyên cần kiểm tra: 45\n",
            "True\n"
          ]
        }
      ]
    },
    {
      "cell_type": "markdown",
      "metadata": {
        "id": "cd7760ca"
      },
      "source": [
        "## **<font color = \"palered\">[Bài 12]</font>** Kiểm tra tuổi đủ điều kiện bầu cử: Viết chương trình nhập năm sinh của một người, kiểm tra xem người đó có đủ 18 tuổi để đi bầu cử hay không."
      ]
    },
    {
      "cell_type": "code",
      "source": [
        "try:\n",
        "    user_birthyear = int(input(\"Nhập năm sinh: \"))\n",
        "    years_now = int(input(\"Nhập năm hiện tại: \"))\n",
        "    age = years_now - user_birthyear\n",
        "    if (age >= 18):\n",
        "        print(f\"đủ đi bầu cử\")\n",
        "    else:\n",
        "        print(f\"chưa đủ\")\n",
        "except ValueError:\n",
        "    print(\"Chỉ được nhập năm!\")"
      ],
      "metadata": {
        "colab": {
          "base_uri": "https://localhost:8080/"
        },
        "id": "O-dWp1AH6uZU",
        "outputId": "aac5616f-8259-455d-9d2e-091650c3dab9"
      },
      "execution_count": null,
      "outputs": [
        {
          "output_type": "stream",
          "name": "stdout",
          "text": [
            "Nhập năm sinh: 2007\n",
            "Nhập năm hiện tại: 2035\n",
            "đủ đi bầu cử\n"
          ]
        }
      ]
    },
    {
      "cell_type": "markdown",
      "metadata": {
        "id": "1cb3899f"
      },
      "source": [
        "## **<font color = \"palered\">[Bài 13]</font>** So sánh 2 số: Viết chương trình nhập vào hai số, in ra số lớn hơn hoặc thông báo nếu hai số bằng nhau."
      ]
    },
    {
      "cell_type": "code",
      "source": [
        "try:\n",
        "    a = float(input(\"Nhập số thứ nhất: \"))\n",
        "    b = float(input(\"Nhập số thứ hai: \"))\n",
        "    if (a == b):\n",
        "        print(\"Bằng nhau\")\n",
        "    else:\n",
        "        print(f\"số lớn nhất là {max(a,b)}\")\n",
        "except ValueError:\n",
        "    print(\"Chỉ được nhập số\")"
      ],
      "metadata": {
        "colab": {
          "base_uri": "https://localhost:8080/"
        },
        "id": "64QIRKkK6x4i",
        "outputId": "91877779-7e51-4a05-f68e-10945a9186d2"
      },
      "execution_count": null,
      "outputs": [
        {
          "output_type": "stream",
          "name": "stdout",
          "text": [
            "Nhập số thứ nhất: 53\n",
            "Nhập số thứ hai: 37\n",
            "số lớn nhất là 53.0\n"
          ]
        }
      ]
    },
    {
      "cell_type": "markdown",
      "metadata": {
        "id": "3b67d384"
      },
      "source": [
        "## **<font color = \"palered\">[Bài 14]</font>** Kiểm tra ký tự nhập vào là chữ hay số: Viết chương trình nhập một ký tự, kiểm tra xem ký tự đó là chữ cái hay số."
      ]
    },
    {
      "cell_type": "code",
      "source": [
        "user_input = input(\"Nhập kí tự cần kiểm tra: \")\n",
        "if len(user_input) != 1:\n",
        "    print(\"Vui lòng nhập 1 kí tự\")\n",
        "    exit()\n",
        "if (user_input.isdigit()):\n",
        "    print(f\"{user_input} là số\")\n",
        "elif (user_input.isalpha()):\n",
        "    print(f\"{user_input} là chữ cái\")\n",
        "else:\n",
        "    print(\"là kí hiệu đặc biệt\")"
      ],
      "metadata": {
        "colab": {
          "base_uri": "https://localhost:8080/"
        },
        "id": "CPx4_r4l69Ah",
        "outputId": "bb97350e-a244-4aec-8fdc-e854636334be"
      },
      "execution_count": null,
      "outputs": [
        {
          "output_type": "stream",
          "name": "stdout",
          "text": [
            "Nhập kí tự cần kiểm tra: #\n",
            "là kí tự\n"
          ]
        }
      ]
    },
    {
      "cell_type": "markdown",
      "metadata": {
        "id": "0a274559"
      },
      "source": [
        "## **<font color = \"palered\">[Bài 15]</font>**: Tính điểm học lực\n",
        "Nhập điểm (0-10), phân loại học lực theo quy tắc:\n",
        ">=8: Giỏi; >=6.5 và <8: Khá; >=5 và <6.5: Trung bình; <5: Yếu"
      ]
    },
    {
      "cell_type": "code",
      "source": [
        "ranking = [\n",
        "    {\"ranked\" : \"Giỏi\" , \"start\": 8, \"end\" : 10},\n",
        "    {\"ranked\" : \"Khá\" , \"start\": 6.5, \"end\" : 8},\n",
        "    {\"ranked\" : \"Trung Bình\" , \"start\": 5, \"end\" : 6.5},\n",
        "    {\"ranked\" : \"Yếu\" , \"start\": 0, \"end\" : 5}\n",
        "]\n",
        "\n",
        "def checking_ranking(score):\n",
        "    if (score < 0 or score > 10):\n",
        "        print(\"điểm trong khoảng 0 - 10\")\n",
        "        exit()\n",
        "    if (score == 10):\n",
        "        print(\"Học lực loại giỏi\")\n",
        "    for i in ranking:\n",
        "        if ( score >= i[\"start\"] and score < i[\"end\"]):\n",
        "            ranked = i[\"ranked\"]\n",
        "            print(f\"Học lực loại {ranked}\")\n",
        "\n",
        "    return\n",
        "\n",
        "try:\n",
        "    user_score = float(input(\"Nhập điểm của bạn: \"))\n",
        "    checking_ranking(user_score)\n",
        "except ValueError:\n",
        "    print(\"chỉ được nhập số\")\n",
        "\n",
        "\n"
      ],
      "metadata": {
        "colab": {
          "base_uri": "https://localhost:8080/"
        },
        "id": "ZoaDKEQl6_fp",
        "outputId": "fe6b816e-55aa-4553-8cd9-6e0cb289328f"
      },
      "execution_count": null,
      "outputs": [
        {
          "output_type": "stream",
          "name": "stdout",
          "text": [
            "Nhập điểm của bạn: 5\n",
            "Học lực loại Trung Bình\n"
          ]
        }
      ]
    },
    {
      "cell_type": "markdown",
      "metadata": {
        "id": "07205404"
      },
      "source": [
        "## **<font color = \"palered\">[Bài 16]</font>** Kiểm tra năm nhuận: Viết chương trình nhập năm, kiểm tra xem năm đó có phải năm nhuận hay không. (Năm nhuận nếu chia hết cho 400 hoặc chia hết cho 4 nhưng không chia hết cho 100)"
      ]
    },
    {
      "cell_type": "code",
      "metadata": {
        "colab": {
          "base_uri": "https://localhost:8080/"
        },
        "id": "e71d2879",
        "outputId": "2bdf3a20-00da-49d0-db14-5ca01fc0cef8"
      },
      "source": [
        "try:\n",
        "    year = int(input(\"Nhập năm cần kiểm tra: \"))\n",
        "    if (year % 400 == 0) or (year % 4 == 0 and year % 100 != 0):\n",
        "        print(f\"Năm {year} là năm nhuận\")\n",
        "    else:\n",
        "        print(f\"Năm {year} không phải là năm nhuận\")\n",
        "except ValueError:\n",
        "    print(\"Vui lòng nhập số nguyên cho năm.\")"
      ],
      "execution_count": null,
      "outputs": [
        {
          "output_type": "stream",
          "name": "stdout",
          "text": [
            "Nhập năm cần kiểm tra: 2024\n",
            "Năm 2024 là năm nhuận\n"
          ]
        }
      ]
    },
    {
      "cell_type": "markdown",
      "metadata": {
        "id": "b9e438c3"
      },
      "source": [
        "## **<font color = \"palered\">[Bài 17]</font>** Chuyển đổi số thành chữ số: Nhập một số nguyên từ 0 đến 9, in ra tên chữ số tương ứng (0 -> \"Không\", 1 -> \"Một\", ...) – Xem trước match …case"
      ]
    },
    {
      "cell_type": "code",
      "source": [
        "user_input = int(input(\"Nhập số nguyên từ 0 - 9: \"))\n",
        "match user_input:\n",
        "    case 0:\n",
        "        print(\"Không\")\n",
        "    case 1:\n",
        "        print(\"Một\")\n",
        "    case 2:\n",
        "        print(\"Hai\")\n",
        "    case 3:\n",
        "        print(\"Ba\")\n",
        "    case 4:\n",
        "        print(\"Bốn\")\n",
        "    case 5:\n",
        "        print(\"Năm\")\n",
        "    case 6:\n",
        "        print(\"Sáu\")\n",
        "    case 7:\n",
        "        print(\"Bảy\")\n",
        "    case 8:\n",
        "        print(\"Tám\")\n",
        "    case 9:\n",
        "        print(\"Chín\")"
      ],
      "metadata": {
        "colab": {
          "base_uri": "https://localhost:8080/"
        },
        "id": "tnjsFvD4880S",
        "outputId": "10154893-d8de-4258-a0bf-6e164ea789f5"
      },
      "execution_count": null,
      "outputs": [
        {
          "output_type": "stream",
          "name": "stdout",
          "text": [
            "Nhập số nguyên từ 0 - 9: 9\n",
            "Chín\n"
          ]
        }
      ]
    },
    {
      "cell_type": "markdown",
      "metadata": {
        "id": "a3050f9c"
      },
      "source": [
        "## **<font color = \"palered\">[Bài 18]</font>** Kiểm tra điểm thi xem có qua môn hay phải học lại: Nhập điểm thi, nếu điểm >= 4 thì in \"Qua môn\", ngược lại in \"Học lại\"."
      ]
    },
    {
      "cell_type": "code",
      "metadata": {
        "colab": {
          "base_uri": "https://localhost:8080/"
        },
        "id": "c53ce4de",
        "outputId": "ad3749e2-f009-4c5c-b6a3-2e20a46aa2db"
      },
      "source": [
        "# Bài 18: Kiểm tra điểm thi xem có qua môn hay phải học lại\n",
        "try:\n",
        "    score = float(input(\"Nhập điểm thi: \"))\n",
        "    if score >= 4:\n",
        "        print(\"Qua môn\")\n",
        "    else:\n",
        "        print(\"Học lại\")\n",
        "except ValueError:\n",
        "    print(\"Vui lòng nhập số cho điểm thi.\")"
      ],
      "execution_count": null,
      "outputs": [
        {
          "output_type": "stream",
          "name": "stdout",
          "text": [
            "Nhập điểm thi: 7\n",
            "Qua môn\n"
          ]
        }
      ]
    },
    {
      "cell_type": "markdown",
      "metadata": {
        "id": "0872210a"
      },
      "source": [
        "## **<font color = \"palered\">[Bài 19]</font>** Kiểm tra năm sinh và tính tuổi: Nhập năm sinh, tính tuổi hiện tại (giả sử năm hiện tại là 2025), và kiểm tra xem người đó có đủ 18 tuổi hay chưa."
      ]
    },
    {
      "cell_type": "code",
      "source": [
        "# Bài 19: Kiểm tra năm sinh và tính tuổi\n",
        "try:\n",
        "    birth_year = int(input(\"Nhập năm sinh: \"))\n",
        "    current_year = 2025  # Giả sử năm hiện tại là 2025\n",
        "    age = current_year - birth_year\n",
        "    print(f\"Tuổi hiện tại là: {age}\")\n",
        "    if age >= 18:\n",
        "        print(\"Đủ 18 tuổi\")\n",
        "    else:\n",
        "        print(\"Chưa đủ 18 tuổi\")\n",
        "except ValueError:\n",
        "    print(\"Vui lòng nhập số nguyên cho năm sinh.\")"
      ],
      "metadata": {
        "colab": {
          "base_uri": "https://localhost:8080/"
        },
        "id": "2fy9e8uV9N_g",
        "outputId": "a98de793-e732-48bb-cc8b-42f58ce908d2"
      },
      "execution_count": null,
      "outputs": [
        {
          "output_type": "stream",
          "name": "stdout",
          "text": [
            "Nhập năm sinh: 2007\n",
            "Tuổi hiện tại là: 18\n",
            "Đủ 18 tuổi\n"
          ]
        }
      ]
    }
  ]
}