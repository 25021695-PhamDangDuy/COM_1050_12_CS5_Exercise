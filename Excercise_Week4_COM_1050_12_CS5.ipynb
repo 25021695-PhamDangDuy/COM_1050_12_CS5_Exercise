{
  "nbformat": 4,
  "nbformat_minor": 0,
  "metadata": {
    "colab": {
      "provenance": [],
      "authorship_tag": "ABX9TyNbOUektyN55lVtnhdRQQCI",
      "include_colab_link": true
    },
    "kernelspec": {
      "name": "python3",
      "display_name": "Python 3"
    },
    "language_info": {
      "name": "python"
    }
  },
  "cells": [
    {
      "cell_type": "markdown",
      "metadata": {
        "id": "view-in-github",
        "colab_type": "text"
      },
      "source": [
        "<a href=\"https://colab.research.google.com/github/25021695-PhamDangDuy/COM_1050_12_CS5_Exercise/blob/main/Excercise_Week4_COM_1050_12_CS5.ipynb\" target=\"_parent\"><img src=\"https://colab.research.google.com/assets/colab-badge.svg\" alt=\"Open In Colab\"/></a>"
      ]
    },
    {
      "cell_type": "markdown",
      "source": [
        "#**<font color = \"palered\"> Bài Tập Tuần 4 - (25021695 Phạm Đăng Duy) </font>**\n",
        "> Link (https://portal.uet.vnu.edu.vn/courses/3555/files/836702/download?download_frd=1)"
      ],
      "metadata": {
        "id": "Mlj8A1VY7Koc"
      }
    },
    {
      "cell_type": "markdown",
      "metadata": {
        "id": "f212cd9e"
      },
      "source": [
        "## <font color=\"palered\">**W4A1 [SumOfNumbers]**</font>\n",
        "\n",
        "Viết chương trình Python sử dụng một trong 2 loại vòng lặp for hoặc while để tính tống các số nguyên từ 1 đến n. (n <= 1000)"
      ]
    },
    {
      "cell_type": "code",
      "source": [
        "n = int(input(\"Nhập số nguyên n: \"))\n",
        "if (n > 1000 or n <= 0):\n",
        "  print(\"Giá trị của n nằm ngoài khoảng\")\n",
        "else:\n",
        "  total = 0\n",
        "  for i in range(1, n + 1):\n",
        "    total += i\n",
        "  print(f\"Tổng từ 1 đến {n} là: {total}\")"
      ],
      "metadata": {
        "colab": {
          "base_uri": "https://localhost:8080/"
        },
        "id": "v1eop2Kl_n3U",
        "outputId": "f7997015-6bf9-4a99-b56d-a60a39509e0b"
      },
      "execution_count": 5,
      "outputs": [
        {
          "output_type": "stream",
          "name": "stdout",
          "text": [
            "Nhập số nguyên n: 50\n",
            "Tổng từ 1 đến 50 là: 1275\n"
          ]
        }
      ]
    },
    {
      "cell_type": "markdown",
      "metadata": {
        "id": "efde1f27"
      },
      "source": [
        "## <font color=\"palered\">**W4A2 [PrimeNumber]**</font>\n",
        "\n",
        "Viết chương trình nhập vào một số tới khi được một số nguyên dương thì thôi. Kiểm tra số này có phải là số nguyên tố hay không?\n",
        "\n",
        "\n"
      ]
    },
    {
      "cell_type": "code",
      "source": [
        "number = -1\n",
        "while ( number <= 0 or  (type(number) != int)):\n",
        "  number = (input(\"Nhập số (Nguyên dương): \"))\n"
      ],
      "metadata": {
        "colab": {
          "base_uri": "https://localhost:8080/",
          "height": 193
        },
        "id": "3LKCDYIjAkvj",
        "outputId": "d32c7c54-e240-46b5-87b9-e06bbe2e9791"
      },
      "execution_count": 19,
      "outputs": [
        {
          "name": "stdout",
          "output_type": "stream",
          "text": [
            "Nhập số (Nguyên dương): 3\n"
          ]
        },
        {
          "output_type": "error",
          "ename": "TypeError",
          "evalue": "'<=' not supported between instances of 'str' and 'int'",
          "traceback": [
            "\u001b[0;31m---------------------------------------------------------------------------\u001b[0m",
            "\u001b[0;31mTypeError\u001b[0m                                 Traceback (most recent call last)",
            "\u001b[0;32m/tmp/ipython-input-2044305442.py\u001b[0m in \u001b[0;36m<cell line: 0>\u001b[0;34m()\u001b[0m\n\u001b[1;32m      1\u001b[0m \u001b[0mnumber\u001b[0m \u001b[0;34m=\u001b[0m \u001b[0;34m-\u001b[0m\u001b[0;36m1\u001b[0m\u001b[0;34m\u001b[0m\u001b[0;34m\u001b[0m\u001b[0m\n\u001b[0;32m----> 2\u001b[0;31m \u001b[0;32mwhile\u001b[0m \u001b[0;34m(\u001b[0m \u001b[0mnumber\u001b[0m \u001b[0;34m<=\u001b[0m \u001b[0;36m0\u001b[0m \u001b[0;32mor\u001b[0m  \u001b[0;34m(\u001b[0m\u001b[0mtype\u001b[0m\u001b[0;34m(\u001b[0m\u001b[0mnumber\u001b[0m\u001b[0;34m)\u001b[0m \u001b[0;34m!=\u001b[0m \u001b[0mint\u001b[0m\u001b[0;34m)\u001b[0m\u001b[0;34m)\u001b[0m\u001b[0;34m:\u001b[0m\u001b[0;34m\u001b[0m\u001b[0;34m\u001b[0m\u001b[0m\n\u001b[0m\u001b[1;32m      3\u001b[0m   \u001b[0mnumber\u001b[0m \u001b[0;34m=\u001b[0m \u001b[0;34m(\u001b[0m\u001b[0minput\u001b[0m\u001b[0;34m(\u001b[0m\u001b[0;34m\"Nhập số (Nguyên dương): \"\u001b[0m\u001b[0;34m)\u001b[0m\u001b[0;34m)\u001b[0m\u001b[0;34m\u001b[0m\u001b[0;34m\u001b[0m\u001b[0m\n",
            "\u001b[0;31mTypeError\u001b[0m: '<=' not supported between instances of 'str' and 'int'"
          ]
        }
      ]
    },
    {
      "cell_type": "markdown",
      "metadata": {
        "id": "076d442c"
      },
      "source": [
        "## <font color=\"palered\">**W4A3 [Factorial]**</font>\n",
        "\n",
        "Viết chương trình tính giai thừa của một số nguyên n cho trước (n!=1×2×…×n) với 0 < n < 100.\n"
      ]
    },
    {
      "cell_type": "code",
      "source": [
        "n = int(input(\"Nhập số nguyên n: \"))\n",
        "if (n> 100 or n < 0):\n",
        "  print(\"n sai khoảng\")\n",
        "else:\n",
        "  factorial = 1\n",
        "  for i in range(1, n + 1):\n",
        "    factorial *= i\n",
        "  print(f\"Giai thừa của {n} là: {factorial}\")"
      ],
      "metadata": {
        "colab": {
          "base_uri": "https://localhost:8080/"
        },
        "id": "LW-egVXiCgBu",
        "outputId": "59e3330f-42e2-4dbe-d104-5f07a35b14b7"
      },
      "execution_count": 22,
      "outputs": [
        {
          "output_type": "stream",
          "name": "stdout",
          "text": [
            "Nhập số nguyên n: -3\n",
            "n sai khoảng\n"
          ]
        }
      ]
    },
    {
      "cell_type": "markdown",
      "metadata": {
        "id": "26b5d2cc"
      },
      "source": [
        "## <font color=\"palered\">**W4A4 [CountingDigits]**</font>\n",
        "\n",
        "Viết chương trình nhập vào một số nguyên n và in ra màn hình số chữ số (trừ dấu) của số đó. Không dùng kiểu dữ liệu string.\n"
      ]
    },
    {
      "cell_type": "code",
      "source": [
        "n = int(input(\"Nhập số nguyên n: \"))\n",
        "while (n // 10 != 0):\n",
        "  if (n < 0):\n",
        "    for i in range\n",
        "  else:\n"
      ],
      "metadata": {
        "id": "redyjoPgDG6V"
      },
      "execution_count": null,
      "outputs": []
    },
    {
      "cell_type": "markdown",
      "metadata": {
        "id": "d52060a7"
      },
      "source": [
        "## <font color=\"palered\">**W4A5 [MeaningOfLife]**</font>\n",
        "\n",
        "Khi Douglas Adam viết cuốn sách, **<font color=\"lightgreen\">The Hitchhiker’s Guide to the Galaxy</font>**, ông ta đã thêm vào đó một vài lời nói đùa, và theo năm tháng nó đã trở nên nổi tiếng hơn cả bản thân cuốn tiểu thuyết: “Câu trả lời cho câu hỏi lớn nhất về **<font color=\"lightgreen\">sự sống, về vũ trụ và tất cả mọi thứ là 42</font>**.” Một vài người cuồng tín đã tốn hàng năm trời, với mọi cố gắng nỗ lực để gán ghép ý nghĩa, biểu trưng cho con số **<font color=\"lightgreen\">42</font>** và các “sự cố” liên quan đến nó.\n",
        "Với mong muốn hái ra tiền từ sư “ám ảnh” điên rồ này, một cuốn sách mới vừa được xuất bản, **<font color=\"lightgreen\">42: Douglas Adams’ Amazingly Accurate Answer to Life, the Universe and Everything</font>**. Cuốn sách được phát hành trùng với **<font color=\"lightgreen\">kỉ niệm 10 năm ngày mất của Adams</font>**.\n",
        "“Câu trả lời rất đơn giản”, như Adams đã nói, “Chỉ là một **<font color=\"lightgreen\">trò đùa</font>**. Tôi cần một con số, một con số be bé, một con số tầm thường, và tôi đã chọn nó. Hai chữ số, bội của 13, một con số hoàn toàn vô nghĩa đối với mấy tay thầy chùa. Tôi ngồi trên bàn làm việc, ngắm khu vườn và nghĩ rằng số 42 sẽ được việc lắm đây. Tôi gõ nó ra. Và hết.”\n",
        "Xuyên suốt lịch sử, các **<font color=\"lightgreen\">con số được gán cho những ý nghĩa đặc biệt</font>** nào đó. **<font color=\"lightgreen\">Plato</font>** gọi việc nghiên cứu các biểu tượng số học” là level cao nhất của tri thức. Trong khi **<font color=\"lightgreen\">Pythagoras</font>** tin rằng các con số đều có linh hồn cũng như sức mạnh kì diệu.\n",
        "Trong khi đó, hàng triệu người hâm mộ Hitchhiker cho đến ngày nay vẫn kiên trì giải mã những thứ họ cho rằng đó là những động cơ bí mật của Adams.\n",
        ">Hãy viết một chương trình nhận vào một **<font color=\"lightgreen\">số nguyên dương n</font>** và một **<font color=\"lightgreen\">dãy gồm n số nguyên</font>**. Nếu n số nguyên đó có **<font color=\"lightgreen\">số 42</font>** thì in ra màn hình dòng chữ \"**<font color=\"lightgreen\">I′ve found the meaning of life!</font>**\", ngược lại in ra dòng chữ \"**<font color=\"lightgreen\">It′s a joke!</font>**\""
      ]
    },
    {
      "cell_type": "markdown",
      "metadata": {
        "id": "a38a0151"
      },
      "source": [
        "## <font color=\"palered\">**W4A6 [SumPrimesInRange]**</font>\n",
        "\n",
        "Nhập hai **<font color=\"lightgreen\">số nguyên dương a, b (a ≤ b)</font>**. Hãy tính **<font color=\"lightgreen\">tổng các số nguyên tố trong đoạn [a, b]</font>**. Mỗi dòng là một bộ test (a b).\"\n"
      ]
    },
    {
      "cell_type": "markdown",
      "metadata": {
        "id": "d88e9289"
      },
      "source": [
        "## <font color=\"palered\">**W4A7 [LargestPrimeFactor]**</font>\n",
        "\n",
        "Nhập vào **<font color=\"lightgreen\">số nguyên dương n (n ≥ 2)</font>**. Hãy in ra **<font color=\"lightgreen\">ước số nguyên tố lớn nhất của n</font>**.\n"
      ]
    },
    {
      "cell_type": "markdown",
      "metadata": {
        "id": "41569e3b"
      },
      "source": [
        "## <font color=\"palered\">**W4A8 [ReverseAddPalindrome]**</font>\n",
        "\n",
        "Nhập **<font color=\"lightgreen\">số nguyên dương n</font>**. Lặp lại phép toán **<font color=\"lightgreen\">n = n + reverse(n)</font>** cho đến khi **<font color=\"lightgreen\">n là số đối xứng (palindrome)</font>**. In ra **<font color=\"lightgreen\">số bước và giá trị palindrome thu được</font>**.\n"
      ]
    },
    {
      "cell_type": "markdown",
      "metadata": {
        "id": "69e6cb8c"
      },
      "source": [
        "## <font color=\"palered\">**W4A9 [PerfectSquaresDistinctDigits]**</font>\n",
        "\n",
        "Nhập vào **<font color=\"lightgreen\">số nguyên dương n</font>**. In ra tất cả các **<font color=\"lightgreen\">số chính phương ≤ n có các chữ số đôi một khác nhau</font>** (in theo thứ tự tăng dần, cùng hàng, cách nhau bởi một dấu cách). Nếu không có, in ra **<font color=\"lightgreen\">(no number)</font>**."
      ]
    },
    {
      "cell_type": "markdown",
      "metadata": {
        "id": "417baedd"
      },
      "source": [
        "## <font color=\"palered\">**W4A10 [LongestCollatzUpToN]**</font>\n",
        "\n",
        "Nhập vào **<font color=\"lightgreen\">số nguyên dương n</font>**. Tìm **<font color=\"lightgreen\">số x trong [1, n] có độ dài dãy Collatz lớn nhất</font>** và in ra **<font color=\"lightgreen\">x cùng độ dài dãy tương ứng (x L)</font>**. Nếu có nhiều số cùng độ dài, chọn số nhỏ nhất."
      ]
    },
    {
      "cell_type": "markdown",
      "metadata": {
        "id": "84da5d7e"
      },
      "source": [
        "## <font color=\"palered\">**W4A11 [EvenDivisors]**</font>\n",
        "\n",
        "Viết chương trình **<font color=\"lightgreen\">đếm số lượng ước số chẵn của số nguyên dương n</font>** với **<font color=\"lightgreen\">n < 10^6</font>**."
      ]
    },
    {
      "cell_type": "markdown",
      "metadata": {
        "id": "496d2684"
      },
      "source": [
        "## <font color=\"palered\">**W4A12 [Interest]**</font>\n",
        "\n",
        "Một người có tài khoản tiết kiệm ở ngân hàng và gửi vào **<font color=\"lightgreen\">X đồng</font>** với **<font color=\"lightgreen\">lãi suất là 0.7% mỗi tháng</font>**. Viết chương trình tính **<font color=\"lightgreen\">số tiền sau N tháng người ấy rút được (cả gốc và lãi, bỏ qua phần lẻ thập phân)</font>**."
      ]
    },
    {
      "cell_type": "markdown",
      "metadata": {
        "id": "c930bc5f"
      },
      "source": [
        "## <font color=\"palered\">**W4A13 [ClosePairNumber]**</font>\n",
        "\n",
        "Hai **<font color=\"lightgreen\">số nguyên dương</font>** tạo thành một **<font color=\"lightgreen\">cặp số thân thiết</font>** khi chúng tuân theo quy luật: **<font color=\"lightgreen\">Số này bằng tổng tất cả các ước của số kia (trừ chính nó) và ngược lại</font>**.\n",
        "Ví dụ 220 và 284 là một cặp số thân thiết\n",
        "220 ngoài chính nó ra, nó còn có 11 ước số khác là: 1, 2, 4, 5, 10, 11, 20, 44, 55, 110. Tổng của 11 ước này cho chúng ta 284\n",
        "284 ngoài bản thân nó, còn có 5 ước số khác là: 1, 2, 4, 71, 142. Tổng của chúng vừa đúng bằng 220\n",
        "Nhập **<font color=\"lightgreen\">hai số từ bàn phím</font>** và **<font color=\"lightgreen\">kiểm tra xem chúng có phải là cặp số thân thiết không</font>**. Nếu có, in ra màn hình \"**<font color=\"lightgreen\">true</font>**\", ngược lại, in ra \"**<font color=\"lightgreen\">false</font>**\""
      ]
    },
    {
      "cell_type": "markdown",
      "metadata": {
        "id": "8dd9ce37"
      },
      "source": [
        "## <font color=\"palered\">**W4A14 [GCD]**</font>\n",
        "\n",
        "Cho hai **<font color=\"lightgreen\">số m và n là hai số nguyên dương nhập từ bàn phím</font>**. Viết chương trình **<font color=\"lightgreen\">tìm ước chung lớn nhất của hai số m và n</font>**."
      ]
    },
    {
      "cell_type": "markdown",
      "metadata": {
        "id": "41b9b72c"
      },
      "source": [
        "## <font color=\"palered\">**W4A15 [ChickenAndDog]**</font>\n",
        "\n",
        "\"Vừa gà vừa chó,\n",
        "Bó lại cho tròn,\n",
        "Ba mươi sáu con,\n",
        "Một trăm chân chẵn\"\n",
        "Từ bài toán dân gian trên, mở rộng thành chương trình nhận đầu vào là **<font color=\"lightgreen\">tổng số con và tổng số chân của gà và chó</font>**. Nếu tìm được số phù hợp, **<font color=\"lightgreen\">in ra số lượng gà và số lượng chó</font>**. Ngược lại, in ra \"**<font color=\"lightgreen\">invalid</font>**\"."
      ]
    },
    {
      "cell_type": "code",
      "source": [],
      "metadata": {
        "id": "AFTD0FnA_E4Q"
      },
      "execution_count": null,
      "outputs": []
    },
    {
      "cell_type": "markdown",
      "metadata": {
        "id": "846086ea"
      },
      "source": [
        "## <font color=\"palered\">**W4A16**</font>\n",
        "\n",
        "In các **<font color=\"lightgreen\">số chẵn chia hết cho 3 bé hơn 100</font>**."
      ]
    },
    {
      "cell_type": "markdown",
      "metadata": {
        "id": "934da025"
      },
      "source": [
        "## <font color=\"palered\">**W4A17**</font>\n",
        "\n",
        "Nhập vào **<font color=\"lightgreen\">số nguyên dương a</font>**, **<font color=\"lightgreen\">in ra bảng cửu chương của a</font>**."
      ]
    },
    {
      "cell_type": "markdown",
      "metadata": {
        "id": "b0573044"
      },
      "source": [
        "## <font color=\"palered\">**W4A18**</font>\n",
        "\n",
        "Nhập vào **<font color=\"lightgreen\">số nguyên dương a và b</font>**, **<font color=\"lightgreen\">in toàn bộ ước chung của a và b</font>**."
      ]
    },
    {
      "cell_type": "markdown",
      "metadata": {
        "id": "65a9c48d"
      },
      "source": [
        "## <font color=\"palered\">**W4A19 [EvenNumbers]**</font>\n",
        "\n",
        "Viết chương trình Python sử dụng một trong 2 loại vòng lặp **<font color=\"lightgreen\">for hoặc while</font>** để **<font color=\"lightgreen\">in ra các số dương chẵn nhỏ hơn hoặc bằng n (n <= 1000)</font>**."
      ]
    },
    {
      "cell_type": "markdown",
      "metadata": {
        "id": "ca197680"
      },
      "source": [
        "## <font color=\"palered\">**W4A20**</font>\n",
        "\n",
        "Nhập vào một **<font color=\"lightgreen\">số nguyên dương n</font>**, **<font color=\"lightgreen\">kiểm tra xem n có phải là số dạng 2^k hay không</font>**."
      ]
    },
    {
      "cell_type": "markdown",
      "metadata": {
        "id": "993934f7"
      },
      "source": [
        "## <font color=\"palered\">**W4A21**</font>\n",
        "\n",
        "Nhập vào **<font color=\"lightgreen\">số nguyên dương n</font>**, **<font color=\"lightgreen\">tính tổng các chữ số của n</font>**."
      ]
    },
    {
      "cell_type": "markdown",
      "metadata": {
        "id": "a8a8316a"
      },
      "source": [
        "## <font color=\"palered\">**W4A22**</font>\n",
        "\n",
        "Nhập vào **<font color=\"lightgreen\">số nguyên dương n</font>**, **<font color=\"lightgreen\">đếm xem n có bao nhiêu chữ số chẵn, bao nhiêu chữ số lẻ</font>**."
      ]
    },
    {
      "cell_type": "markdown",
      "metadata": {
        "id": "eda19ad4"
      },
      "source": [
        "## <font color=\"palered\">**W4A23**</font>\n",
        "\n",
        "Nhập **<font color=\"lightgreen\">n</font>**.\n",
        "Cho S(k) = 1 + 2 + 3 + … + k\n",
        "Tìm **<font color=\"lightgreen\">k sao cho S(k) lớn nhất nhưng nhỏ hơn n</font>**."
      ]
    },
    {
      "cell_type": "markdown",
      "metadata": {
        "id": "ea7508f8"
      },
      "source": [
        "## <font color=\"palered\">**W4A24**</font>\n",
        "\n",
        "Nhập vào **<font color=\"lightgreen\">A</font>**, tìm **<font color=\"lightgreen\">n nhỏ nhất sao cho\n",
        "1 + 1/2 + 1/3 + 1/4 + ... + 1/n > A</font>**."
      ]
    },
    {
      "cell_type": "markdown",
      "metadata": {
        "id": "13e15d7c"
      },
      "source": [
        "## <font color=\"palered\">**W4A25**</font>\n",
        "\n",
        "Nhập vào **<font color=\"lightgreen\">một dãy số nguyên</font>**, **<font color=\"lightgreen\">ngưng nhập khi người dùng nhập -1</font>**.\n",
        "Sau khi nhập xong, **<font color=\"lightgreen\">in số lớn nhất, số nhỏ nhất trong những số vừa nhập</font>**."
      ]
    },
    {
      "cell_type": "code",
      "source": [],
      "metadata": {
        "id": "2ts-XsE7_gSf"
      },
      "execution_count": null,
      "outputs": []
    },
    {
      "cell_type": "markdown",
      "metadata": {
        "id": "940f1c66"
      },
      "source": [
        "## <font color=\"palered\">**W4A26 [Fibonaci1]**</font>\n",
        "\n",
        "Dãy số fibonacci là dãy số được định nghĩa như sau: **<font color=\"lightgreen\">1, 1, 2, 3, 5, 8, 13,... với số kế tiếp sẽ bằng tổng hai số trước đó</font>**.\n",
        "Nhập vào **<font color=\"lightgreen\">số nguyên dương A</font>**, hãy tìm **<font color=\"lightgreen\">số trong dãy số fibonacci lớn nhất nhưng không vượt quá A</font>**."
      ]
    },
    {
      "cell_type": "markdown",
      "metadata": {
        "id": "b63691b7"
      },
      "source": [
        "## <font color=\"palered\">**W4A27**</font>\n",
        "\n",
        "Nhập vào **<font color=\"lightgreen\">một chuỗi</font>**, hãy **<font color=\"lightgreen\">đếm xem trong chuỗi có bao nhiêu từ</font>** (quy định là chuỗi không có ký tự đặc biệt, không số, không có dấu câu, chỉ có ký tự chữ và khoảng trắng)\n",
        "Dùng cách: **<font color=\"lightgreen\">for trên index; KHÔNG dùng hàm split(), len()</font>**."
      ]
    },
    {
      "cell_type": "markdown",
      "metadata": {
        "id": "e0843a77"
      },
      "source": [
        "## <font color=\"palered\">**W4A28**</font>\n",
        "\n",
        "Nhập vào **<font color=\"lightgreen\">một chuỗi</font>**, hãy **<font color=\"lightgreen\">in từ đầu tiên trong chuỗi</font>**.\n",
        "Dùng cách: **<font color=\"lightgreen\">for trên index; KHÔNG dùng hàm split()</font>**."
      ]
    },
    {
      "cell_type": "markdown",
      "metadata": {
        "id": "48ae2467"
      },
      "source": [
        "## <font color=\"palered\">**W4A29**</font>\n",
        "\n",
        "Nhập vào **<font color=\"lightgreen\">một chuỗi có dạng 3 số nguyên, mỗi số nguyên cách nhau một dấu phẩy</font>**, hãy **<font color=\"lightgreen\">tính tổng 3 số nguyên đó</font>**."
      ]
    },
    {
      "cell_type": "markdown",
      "metadata": {
        "id": "82bab9e4"
      },
      "source": [
        "## <font color=\"palered\">**W4A30**</font>\n",
        "\n",
        "Nhập vào **<font color=\"lightgreen\">một chuỗi</font>**, hãy **<font color=\"lightgreen\">đếm xem trong chuỗi có bao nhiêu ký tự in hoa, bao nhiêu ký tự in thường, bao nhiêu ký tự số</font>**."
      ]
    },
    {
      "cell_type": "markdown",
      "metadata": {
        "id": "a5a76279"
      },
      "source": [
        "## <font color=\"palered\">**W4A31**</font>\n",
        "\n",
        "Nhập vào **<font color=\"lightgreen\">một chuỗi</font>**, hãy **<font color=\"lightgreen\">tách toàn bộ ký tự số trong chuỗi ra rồi tính tổng của chúng</font>**."
      ]
    },
    {
      "cell_type": "markdown",
      "metadata": {
        "id": "814b7c17"
      },
      "source": [
        "## <font color=\"palered\">**W4A32**</font>\n",
        "\n",
        "Nhập vào **<font color=\"lightgreen\">một chuỗi</font>**, **<font color=\"lightgreen\">kiểm tra chuỗi đó có phải là một chuỗi mật khẩu mạnh hay không</font>** (một chuỗi mật khẩu mạnh cần có **<font color=\"lightgreen\">ít nhất 1 ký tự đặc biệt, 1 ký tự in hoa, 1 con số, 1 chữ thường và độ dài phải lớn hơn 6</font>**)"
      ]
    },
    {
      "cell_type": "markdown",
      "metadata": {
        "id": "303d0b05"
      },
      "source": [
        "## <font color=\"palered\">**W4A33**</font>\n",
        "\n",
        "Nhập vào **<font color=\"lightgreen\">một số nguyên</font>**, hãy **<font color=\"lightgreen\">chuyển số sang chuỗi, rồi đặt dấu chấm phân tách mỗi 3 chữ số (phân cách phần ngàn) rồi in ra màn hình</font>**."
      ]
    },
    {
      "cell_type": "markdown",
      "metadata": {
        "id": "3fdf26ec"
      },
      "source": [
        "## <font color=\"palered\">**W4A34**</font>\n",
        "\n",
        "Nhập vào **<font color=\"lightgreen\">chuỗi a và chuỗi b</font>**.\n",
        "Hãy **<font color=\"lightgreen\">xóa chuỗi b trong chuỗi a rồi in lại chuỗi a ra màn hình (không dùng hàm replace)</font>**."
      ]
    }
  ]
}